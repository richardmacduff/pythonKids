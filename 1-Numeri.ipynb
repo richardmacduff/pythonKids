{
 "cells": [
  {
   "cell_type": "markdown",
   "metadata": {},
   "source": [
    "# Numeri e altre cose in Python!\n",
    "\n",
    "Impariamo cosa sono i numeri in Python, e come usarli.\n",
    "\n",
    "Gli argomenti:\n",
    "\n",
    "    1.) Quali tipi di numeri conosce Python?\n",
    "    2.) Aritmetica di base\n",
    "    3.) Cose da bittaroli: differenze fra Python 2 e Python 3 riguardo ai numeri\n",
    "    4.) Assignmenti in Python"
   ]
  },
  {
   "cell_type": "markdown",
   "metadata": {},
   "source": [
    "## Tipi di numeri\n",
    "\n",
    "In Python puoi usare molti \"tipi\" di numeri diversi. Noi per cominciare ci concentreremo su interi e numeri decimale, ossia quelli con la virgola che però in informatica viene sostituita dal punto, al modo americano. Quindi invece di 3,14 scriveremo 3.14 --ok? \n",
    "\n",
    "(Curiosità: in informatica si chiamano *floating point*, ossia a virgola variabile)\n",
    "\n",
    "Gli interi sono quelli che conti con le dita, e possono essere positivi o negativi. Ad esempio, 2, -3 e 725 sono interi.\n",
    "\n",
    "I numeri con la virgola in Python si riconoscono perché hanno il punto o usano la notazione esponenziale, e anche loro possono avere il segno meno (-) davanti. Ecco qualche esempio di numeri decimali:\n",
    "* 2.0\n",
    "* 3.14\n",
    "* 2.106E3 (ossia 2.016 per 10 alla terza, ovvero 2016)\n",
    "\n",
    "In queste lezioni lavoreremo perlopiù con interi o decimali semplici. Altri tipi di numeri (come i complessi) li lasciamo per il futuro.\n",
    "\n",
    "Here is a table of the two main types we will spend most of our time working with some examples:\n",
    "\n",
    "<table border = “1“>\n",
    "<caption>Numeri in Python</caption> \n",
    "<tr>\n",
    "    <th>Esempio</th> <th>\"Tipo\" di numero</th>\n",
    "</tr>\n",
    "<tr><td>1</td> <td>Intero</td> </tr>\n",
    "<tr><td>-2</td> <td>Intero</td> </tr>\n",
    "\n",
    "<tr><td>17</td> <td>Intero</td> </tr>\n",
    "\n",
    "<tr><td>-13</td> <td>Intero</td> </tr>\n",
    "\n",
    "<tr> <td>3.14</td> <td>Decimale</td> </tr>\n",
    "\n",
    "<tr> <td>-0.5</td> <td>Decimale</td> </tr>\n",
    "\n",
    "<tr> <td>2e2</td> <td>Decimale (2 per 10 alla seconda, ossia 2x100=200)</td> </tr>\n",
    " </table>\n",
    " \n",
    " \n",
    " \n",
    "E adesso vediamo se riusciamo a fare qualche conto."
   ]
  },
  {
   "cell_type": "markdown",
   "metadata": {},
   "source": [
    "### Aritmetica di base"
   ]
  },
  {
   "cell_type": "code",
   "execution_count": 1,
   "metadata": {
    "collapsed": false
   },
   "outputs": [
    {
     "data": {
      "text/plain": [
       "3"
      ]
     },
     "execution_count": 1,
     "metadata": {},
     "output_type": "execute_result"
    }
   ],
   "source": [
    "# Somma\n",
    "2+1"
   ]
  },
  {
   "cell_type": "code",
   "execution_count": 2,
   "metadata": {
    "collapsed": false
   },
   "outputs": [
    {
     "data": {
      "text/plain": [
       "1"
      ]
     },
     "execution_count": 2,
     "metadata": {},
     "output_type": "execute_result"
    }
   ],
   "source": [
    "# Sottrazione\n",
    "2-1"
   ]
  },
  {
   "cell_type": "code",
   "execution_count": 3,
   "metadata": {
    "collapsed": false
   },
   "outputs": [
    {
     "data": {
      "text/plain": [
       "4"
      ]
     },
     "execution_count": 3,
     "metadata": {},
     "output_type": "execute_result"
    }
   ],
   "source": [
    "# Moltiplicazione\n",
    "2*2"
   ]
  },
  {
   "cell_type": "code",
   "execution_count": 4,
   "metadata": {
    "collapsed": false
   },
   "outputs": [
    {
     "data": {
      "text/plain": [
       "1"
      ]
     },
     "execution_count": 4,
     "metadata": {},
     "output_type": "execute_result"
    }
   ],
   "source": [
    "# Divisione\n",
    "3/2"
   ]
  },
  {
   "cell_type": "markdown",
   "metadata": {},
   "source": [
    "### <font color='red'>Python 3 Alert!</font>\n",
    "\n",
    "**Aspetta un attimo! 3 diviso 2 fa 1.5, non 1!**\n",
    "\n",
    "Vero. Il motivo è che stiamo usando Python 2. In Python 2, *se dividendo e divisore sono interi*, il simbolo / esegue quella che si chiama *divisione intera*, ossia senza cifre decimali. In Python 3, invece, il simbolo / esegue la \"*vera*\" divisione. Se lavorassimo in Python 3, 3/2 ci avrebbe dato correttamente come risultato 1.5.\n",
    "\n",
    "E come facciamo a fare la \"vera\" divisione in Python 2? Semplice, facciamo in modo che uno dei due operandi NON sia un intero.\n",
    "\n",
    "**Ci sono due modi per farlo.**\n",
    "\n",
    "Specifichiamo che uno dei due operandi è un decimale"
   ]
  },
  {
   "cell_type": "code",
   "execution_count": 11,
   "metadata": {
    "collapsed": false
   },
   "outputs": [
    {
     "data": {
      "text/plain": [
       "1.5"
      ]
     },
     "execution_count": 11,
     "metadata": {},
     "output_type": "execute_result"
    }
   ],
   "source": [
    "# Specifichiamo che uno dei due operandi è un decimale3.0/2"
   ]
  },
  {
   "cell_type": "code",
   "execution_count": 12,
   "metadata": {
    "collapsed": false
   },
   "outputs": [
    {
     "data": {
      "text/plain": [
       "1.5"
      ]
     },
     "execution_count": 12,
     "metadata": {},
     "output_type": "execute_result"
    }
   ],
   "source": [
    "# Funziona anche per l'altro\n",
    "3/2.0"
   ]
  },
  {
   "cell_type": "markdown",
   "metadata": {},
   "source": [
    "Oppure possiamo usare il *casting*, ossia una funzione che tramuta un intero in un decimale.\n",
    "questa funzione si chiama... float()."
   ]
  },
  {
   "cell_type": "code",
   "execution_count": 14,
   "metadata": {
    "collapsed": false
   },
   "outputs": [
    {
     "data": {
      "text/plain": [
       "1.5"
      ]
     },
     "execution_count": 14,
     "metadata": {},
     "output_type": "execute_result"
    }
   ],
   "source": [
    "# Usiamo float() per fare il cast di un intero a un decimale\n",
    "float(3)/2"
   ]
  },
  {
   "cell_type": "markdown",
   "metadata": {},
   "source": [
    "Sulle funzioni ci torniamo più avanti, quindi non preoccupiamoci ora, per cui se non hai capito cmoe funzionano non preoccuparti. Fai finta di aver visto un \"prossimamente\" al cinema. \n",
    "\n",
    "E tanto per non annoiarci, c'è un altro modo per cambiare il modo in cui funziona la divisione in Python 2. Si tratta di importare da un modulo chiamato __future__.\n",
    "\n",
    "Questo è un modulo di Python 2 che ha delle funzioni di Python 3, e il risultato è che le puoi importare in Python 2.\n",
    "\n",
    "Ma ci torneremo, quindi non stare a scervellarti."
   ]
  },
  {
   "cell_type": "code",
   "execution_count": 15,
   "metadata": {
    "collapsed": false
   },
   "outputs": [
    {
     "data": {
      "text/plain": [
       "1.5"
      ]
     },
     "execution_count": 15,
     "metadata": {},
     "output_type": "execute_result"
    }
   ],
   "source": [
    "from __future__ import division\n",
    "3/2"
   ]
  },
  {
   "cell_type": "markdown",
   "metadata": {},
   "source": [
    "Quando importi la divisione dal modulo __future__ non devi più preoccuparti di fare per errore una divisione intera."
   ]
  },
  {
   "cell_type": "markdown",
   "metadata": {},
   "source": [
    "### Aritmetica, andiamo avanti"
   ]
  },
  {
   "cell_type": "code",
   "execution_count": 16,
   "metadata": {
    "collapsed": false
   },
   "outputs": [
    {
     "data": {
      "text/plain": [
       "8"
      ]
     },
     "execution_count": 16,
     "metadata": {},
     "output_type": "execute_result"
    }
   ],
   "source": [
    "# elevamento a potenza\n",
    "2**3"
   ]
  },
  {
   "cell_type": "code",
   "execution_count": 17,
   "metadata": {
    "collapsed": false
   },
   "outputs": [
    {
     "data": {
      "text/plain": [
       "2.0"
      ]
     },
     "execution_count": 17,
     "metadata": {},
     "output_type": "execute_result"
    }
   ],
   "source": [
    "# Funziona anche per fare le radici quadrate, usando 0.5 come esponente\n",
    "4**0.5"
   ]
  },
  {
   "cell_type": "code",
   "execution_count": 18,
   "metadata": {
    "collapsed": false
   },
   "outputs": [
    {
     "data": {
      "text/plain": [
       "105"
      ]
     },
     "execution_count": 18,
     "metadata": {},
     "output_type": "execute_result"
    }
   ],
   "source": [
    "# Fai attenzione alla priorità degli operatori\n",
    "2 + 10 * 10 + 3"
   ]
  },
  {
   "cell_type": "code",
   "execution_count": 19,
   "metadata": {
    "collapsed": false
   },
   "outputs": [
    {
     "data": {
      "text/plain": [
       "156"
      ]
     },
     "execution_count": 19,
     "metadata": {},
     "output_type": "execute_result"
    }
   ],
   "source": [
    "# Se vuoi cambiare le priorità o se hai dei dubbi, usa le parentesi\n",
    "(2+10) * (10+3)"
   ]
  },
  {
   "cell_type": "markdown",
   "metadata": {},
   "source": [
    "## Assegnamenti\n",
    "\n",
    "Per ora abbiamo usato Python come calcolatore. Ma possiamo creare variabili e usarle per registrare quello che vogliamo.\n",
    "\n",
    "Si usa il segno di uguale per creare una variabile e assegnarle un valore.\n"
   ]
  },
  {
   "cell_type": "code",
   "execution_count": 12,
   "metadata": {
    "collapsed": true
   },
   "outputs": [],
   "source": [
    "# Creiamo un oggetto che si chiama *a* e assegnamoli il valore 5\n",
    "a = 5"
   ]
  },
  {
   "cell_type": "markdown",
   "metadata": {},
   "source": [
    "Ora se uso *a*, Python la tratta come il numero 5."
   ]
  },
  {
   "cell_type": "code",
   "execution_count": 13,
   "metadata": {
    "collapsed": false
   },
   "outputs": [
    {
     "data": {
      "text/plain": [
       "10"
      ]
     },
     "execution_count": 13,
     "metadata": {},
     "output_type": "execute_result"
    }
   ],
   "source": [
    "# Sommiamo due oggetti\n",
    "a+a"
   ]
  },
  {
   "cell_type": "markdown",
   "metadata": {},
   "source": [
    "E se assegno un nuovo valore alla variabile? Python me lo lascia riscrivere?"
   ]
  },
  {
   "cell_type": "code",
   "execution_count": 14,
   "metadata": {
    "collapsed": true
   },
   "outputs": [],
   "source": [
    "# ReRiassegnamento\n",
    "a = 10"
   ]
  },
  {
   "cell_type": "code",
   "execution_count": 15,
   "metadata": {
    "collapsed": false
   },
   "outputs": [
    {
     "data": {
      "text/plain": [
       "10"
      ]
     },
     "execution_count": 15,
     "metadata": {},
     "output_type": "execute_result"
    }
   ],
   "source": [
    "# Controlliamo\n",
    "a"
   ]
  },
  {
   "cell_type": "markdown",
   "metadata": {},
   "source": [
    "Evviva! Python ti lascia riscrivere dentro una variabile che ha già un valore! Il valore assegnaot può anche essere una variabile, guarda cosa intendo:"
   ]
  },
  {
   "cell_type": "code",
   "execution_count": 16,
   "metadata": {
    "collapsed": false
   },
   "outputs": [
    {
     "data": {
      "text/plain": [
       "10"
      ]
     },
     "execution_count": 16,
     "metadata": {},
     "output_type": "execute_result"
    }
   ],
   "source": [
    "# Controlliamo quanto vale\n",
    "a"
   ]
  },
  {
   "cell_type": "code",
   "execution_count": 42,
   "metadata": {
    "collapsed": true
   },
   "outputs": [],
   "source": [
    "# Usiamo A per ridefinire A\n",
    "a = a + a"
   ]
  },
  {
   "cell_type": "code",
   "execution_count": 17,
   "metadata": {
    "collapsed": false
   },
   "outputs": [
    {
     "data": {
      "text/plain": [
       "10"
      ]
     },
     "execution_count": 17,
     "metadata": {},
     "output_type": "execute_result"
    }
   ],
   "source": [
    "# Check \n",
    "a"
   ]
  },
  {
   "cell_type": "markdown",
   "metadata": {},
   "source": [
    "Ci sono delle regole da seguire quando si sceglie il nome di un oggetto:\n",
    "\n",
    "    1. Un nome non può cominciare con un numero\n",
    "    2. Un nome non può contenere spazi. Al loro posto usa _\n",
    "    3. Non puoi usare nessuno di questi caratteri:'\",<>/?|\\()!@#$%^&*~-+\n",
    "    3. La tradizione vuole che i nomi degli oggetti siano in minuscolo.\n",
    "\n",
    "Le variabili sono un ottimo modo per tenere traccia di cose diverse. Per esempio:"
   ]
  },
  {
   "cell_type": "code",
   "execution_count": 22,
   "metadata": {
    "collapsed": false
   },
   "outputs": [],
   "source": [
    "# Usiamo delle variabili per ricordare valori che ci interessano.\n",
    "# Se la scuola porta gli alunni in gita, occorre che ci sia un insegnante ogni, diciamo, venti alunni\n",
    "\n",
    "num_alunni = 100\n",
    "\n",
    "alunni_per_insegnante = 20\n",
    "\n",
    "# in questo caso va bene la divisione intera, le frazioni di insegnante non si trovano mai.\n",
    "insegnanti_necessari =  num_alunni / alunni_per_insegnante "
   ]
  },
  {
   "cell_type": "code",
   "execution_count": 23,
   "metadata": {
    "collapsed": false
   },
   "outputs": [
    {
     "data": {
      "text/plain": [
       "5"
      ]
     },
     "execution_count": 23,
     "metadata": {},
     "output_type": "execute_result"
    }
   ],
   "source": [
    "# quanti insegnanti ci vogliono per andare in gita?\n",
    "insegnanti_necessari"
   ]
  },
  {
   "cell_type": "markdown",
   "metadata": {},
   "source": [
    "Cosa abbiamo imparato? Le basi dell'uso dei numeri in Python. Abbiamo anche imparato a fare un po' di aritmetica e a usare Python come una semplice calcolatrice. E poi abbiamo visto come assegnare valori alle variabili.\n",
    "\n",
    "Il prossimo passo riguarda le Stringhe!"
   ]
  }
 ],
 "metadata": {
  "kernelspec": {
   "display_name": "Python 2",
   "language": "python",
   "name": "python2"
  },
  "language_info": {
   "codemirror_mode": {
    "name": "ipython",
    "version": 2
   },
   "file_extension": ".py",
   "mimetype": "text/x-python",
   "name": "python",
   "nbconvert_exporter": "python",
   "pygments_lexer": "ipython2",
   "version": "2.7.11"
  }
 },
 "nbformat": 4,
 "nbformat_minor": 0
}
