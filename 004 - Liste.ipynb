{
 "cells": [
  {
   "cell_type": "markdown",
   "metadata": {},
   "source": [
    "# Liste\n",
    "\n",
    "Parlando di stringhe abbiamo introdotto il concetto di *sequenza* in Python. Un modo produttivo di pensare a una lista è come alla versione più generale di una sequenza.\n",
    "\n",
    "A differenza delle stringhe, le liste non sono *immutabili*, il che significa che ogni parte del contenuto di una lista può essere modificata.\n",
    "\n",
    "In questa lezione impariamo a:\n",
    "\n",
    "1. Creare una lista\n",
    "2. Accedere a una lista e farne slicing\n",
    "3. Metodi di default di una lista\n",
    "4. Liste innestate\n",
    "5. Presentazione delle list comprehension.\n",
    "\n",
    "Le liste si costruiscono con le parentesi quadre ``[]`` e una virgola come separatore fra gli elementi\n",
    "\n",
    "Cominciamo costruendo la nostra prima lista."
   ]
  },
  {
   "cell_type": "code",
   "execution_count": null,
   "metadata": {
    "collapsed": true
   },
   "outputs": [],
   "source": [
    "# Assegnamo una lista a una variabile mia_lista\n",
    "mia_lista= [1,2,3]"
   ]
  },
  {
   "cell_type": "markdown",
   "metadata": {},
   "source": [
    "Abbiamo appena creato unalista di interi, ma una lista può contenere oggetti di tipi differenti. Per esempio:"
   ]
  },
  {
   "cell_type": "code",
   "execution_count": null,
   "metadata": {
    "collapsed": false
   },
   "outputs": [],
   "source": [
    "mia_lista = ['una stringa',23,100.232,'o']"
   ]
  },
  {
   "cell_type": "markdown",
   "metadata": {},
   "source": [
    "Come abbiamo già visto per le stringhe, la funzione ``len()`` ci dice la *lunghezza* di una lista, ovvero *il numero di elementi* che la lista contiene."
   ]
  },
  {
   "cell_type": "code",
   "execution_count": null,
   "metadata": {
    "collapsed": false
   },
   "outputs": [],
   "source": [
    "len(mia_lista)"
   ]
  },
  {
   "cell_type": "markdown",
   "metadata": {},
   "source": [
    "### Accedere a una lista e farne slicing\n",
    "\n",
    "L'accesso è per indice, e funziona come per le stringhe. Lo stesso vale per lo slicing. Vediamo:"
   ]
  },
  {
   "cell_type": "code",
   "execution_count": null,
   "metadata": {
    "collapsed": true
   },
   "outputs": [],
   "source": [
    "mia_lista = ['uno','duo','trio',4,5]"
   ]
  },
  {
   "cell_type": "code",
   "execution_count": null,
   "metadata": {
    "collapsed": false
   },
   "outputs": [],
   "source": [
    "# Prendiamo il primo elemento (ossia quello alla posizione 0)\n",
    "mia_lista[0]"
   ]
  },
  {
   "cell_type": "code",
   "execution_count": null,
   "metadata": {
    "collapsed": false
   },
   "outputs": [],
   "source": [
    "# Prendiamo gli elementi dalla posizione 1 fino alla fine\n",
    "mia_lista[1:]"
   ]
  },
  {
   "cell_type": "code",
   "execution_count": null,
   "metadata": {
    "collapsed": false
   },
   "outputs": [],
   "source": [
    "# Prendiamo tutto fino alla posizione 3 (esclusa)\n",
    "mia_lista[:3]"
   ]
  },
  {
   "cell_type": "markdown",
   "metadata": {},
   "source": [
    "Per concatenare due liste si usa ``+``, proprio come con le stringhe."
   ]
  },
  {
   "cell_type": "code",
   "execution_count": null,
   "metadata": {
    "collapsed": false
   },
   "outputs": [],
   "source": [
    "# Prendiamo tutto fino alla posizione 3 (esclusa)Grab everything UP TO index 3\n",
    "mia_lista + ['nuovo elemento']"
   ]
  },
  {
   "cell_type": "markdown",
   "metadata": {},
   "source": [
    "**Nota bene**: La concatenazione (o l'accesso) **non** modifica la lista originale."
   ]
  },
  {
   "cell_type": "code",
   "execution_count": null,
   "metadata": {
    "collapsed": false
   },
   "outputs": [],
   "source": [
    "mia_lista"
   ]
  },
  {
   "cell_type": "markdown",
   "metadata": {},
   "source": [
    "Se modificare la lista è quello che vogliamo fare, occorre assegnarle un nuovo vaolre!"
   ]
  },
  {
   "cell_type": "code",
   "execution_count": null,
   "metadata": {
    "collapsed": true
   },
   "outputs": [],
   "source": [
    "# Riassegnamo la lista\n",
    "mia_lista = mia_lista + ['un nuovo elemento permanente']"
   ]
  },
  {
   "cell_type": "code",
   "execution_count": null,
   "metadata": {
    "collapsed": false
   },
   "outputs": [],
   "source": [
    "mia_lista"
   ]
  },
  {
   "cell_type": "markdown",
   "metadata": {},
   "source": [
    "Possiamo anche usare ``*`` (di nuovo: come per le stringhe) per *moltiplicare* una lista:"
   ]
  },
  {
   "cell_type": "code",
   "execution_count": null,
   "metadata": {
    "collapsed": false
   },
   "outputs": [],
   "source": [
    "# Raddoppiamo la lista\n",
    "mia_lista * 2"
   ]
  },
  {
   "cell_type": "code",
   "execution_count": null,
   "metadata": {
    "collapsed": false
   },
   "outputs": [],
   "source": [
    "# Indovina? Il raddoppio non è permanente\n",
    "mia_lista"
   ]
  },
  {
   "cell_type": "markdown",
   "metadata": {},
   "source": [
    "## Metodi di default di una lista\n",
    "\n",
    "Se conosci già qualche altro linguaggio di programmaizone ti potrebbe venire in mente che le liste di Python ti ricordano da vicino gli array dell'altro linguaggio. Non saresti lontano dalla realtà: le liste di Python sono infatti quasi del tutto come gli array che già conosci, con due significativi miglioramenti:\n",
    "1. le liste non hanno una lunghezza prefissata (gli array sì)\n",
    "1. le liste non contengono oggetti di tipo prefissato (gli array sì)\n",
    "\n",
    "Andiamo avanti e vediamo alcui dei metodi delle liste:"
   ]
  },
  {
   "cell_type": "code",
   "execution_count": null,
   "metadata": {
    "collapsed": true
   },
   "outputs": [],
   "source": [
    "# Creiamo una nuova lista\n",
    "l = [1,2,3]"
   ]
  },
  {
   "cell_type": "markdown",
   "metadata": {},
   "source": [
    "Con il metodo **append** possiamo aggiungere permanentemente un elemento in fondo alla lista:"
   ]
  },
  {
   "cell_type": "code",
   "execution_count": null,
   "metadata": {
    "collapsed": true
   },
   "outputs": [],
   "source": [
    "# Appendiamo\n",
    "l.append('appendimi!')"
   ]
  },
  {
   "cell_type": "code",
   "execution_count": null,
   "metadata": {
    "collapsed": false
   },
   "outputs": [],
   "source": [
    "# Controlliamo\n",
    "l"
   ]
  },
  {
   "cell_type": "markdown",
   "metadata": {},
   "source": [
    "Usiamo **pop** per \"far saltare\" fuori un elemento dalla lista. Di default pop toglie l'ultimo elemento, ma possiamo anche indicare quale indice di posizione debba essere estratto. Vediamo:"
   ]
  },
  {
   "cell_type": "code",
   "execution_count": null,
   "metadata": {
    "collapsed": false
   },
   "outputs": [],
   "source": [
    "# Pop dell'elemento di indice 0 (il primo)\n",
    "l.pop(0)"
   ]
  },
  {
   "cell_type": "code",
   "execution_count": null,
   "metadata": {
    "collapsed": false
   },
   "outputs": [],
   "source": [
    "# Vediamo cosa è successo\n",
    "l"
   ]
  },
  {
   "cell_type": "code",
   "execution_count": null,
   "metadata": {
    "collapsed": true
   },
   "outputs": [],
   "source": [
    "# Poppiamo e assegnamo, ricordiamoci che di default pop riguarda l'elemento di indice -1\n",
    "popped_item = l.pop()"
   ]
  },
  {
   "cell_type": "code",
   "execution_count": null,
   "metadata": {
    "collapsed": false
   },
   "outputs": [],
   "source": [
    "popped_item"
   ]
  },
  {
   "cell_type": "code",
   "execution_count": null,
   "metadata": {
    "collapsed": false
   },
   "outputs": [],
   "source": [
    "# Vediamo cosa rimane della lista\n",
    "l"
   ]
  },
  {
   "cell_type": "markdown",
   "metadata": {},
   "source": [
    "**Nota Bene** l'accesso a una lista restituisce un errore se l'elemento indicato dall'indice non esiste. Per esempio:"
   ]
  },
  {
   "cell_type": "code",
   "execution_count": null,
   "metadata": {
    "collapsed": false
   },
   "outputs": [],
   "source": [
    "l[100]"
   ]
  },
  {
   "cell_type": "markdown",
   "metadata": {},
   "source": [
    "Per modificare una lista possiamo usare i metodi **sort** e **reverse**:"
   ]
  },
  {
   "cell_type": "code",
   "execution_count": null,
   "metadata": {
    "collapsed": true
   },
   "outputs": [],
   "source": [
    "nuova_lista = ['a','e','x','b','c']"
   ]
  },
  {
   "cell_type": "code",
   "execution_count": null,
   "metadata": {
    "collapsed": false
   },
   "outputs": [],
   "source": [
    "# Vediamo\n",
    "nuova_lista"
   ]
  },
  {
   "cell_type": "code",
   "execution_count": null,
   "metadata": {
    "collapsed": true
   },
   "outputs": [],
   "source": [
    "# Come ci si aspetta, reverse() capovolge una lista (occhio, la modifica è permanente!)\n",
    "nuova_lista.reverse()"
   ]
  },
  {
   "cell_type": "code",
   "execution_count": null,
   "metadata": {
    "collapsed": false
   },
   "outputs": [],
   "source": [
    "# Proviamo a vedere\n",
    "nuova_lista"
   ]
  },
  {
   "cell_type": "code",
   "execution_count": null,
   "metadata": {
    "collapsed": true
   },
   "outputs": [],
   "source": [
    "# Sort mette in ordine gli elementi di una lista (occhio, ANCHE questo è permanente)\n",
    "# (in questo caso ordine alfabetico; se la lista è numerica, l'ordine sarà crescente\n",
    "nuova_lista.sort()"
   ]
  },
  {
   "cell_type": "code",
   "execution_count": null,
   "metadata": {
    "collapsed": false
   },
   "outputs": [],
   "source": [
    "nuova_lista"
   ]
  },
  {
   "cell_type": "markdown",
   "metadata": {},
   "source": [
    "## Liste innestate (liste di liste)\n",
    "Una bella caratteristica delle strutture dati in Python è quella di consentire l'innesto (nesting). Questo significa che possiamo mettere strutture dati dentro altre strutture dati. Per esempio, una lista dentro una lista.\n",
    "Per questo, in termini tecnici, diremo che le strutture dati di Python sono \"oggetti del primo ordine\".\n",
    "\n",
    "Vediamo come funziona."
   ]
  },
  {
   "cell_type": "code",
   "execution_count": null,
   "metadata": {
    "collapsed": true
   },
   "outputs": [],
   "source": [
    "# Creiamo tre liste\n",
    "lst_1=[1,2,3]\n",
    "lst_2=[4,5,6]\n",
    "lst_3=[7,8,9]\n",
    "\n",
    "# Creiamo una lista di liste e formiamo una matrice\n",
    "matrix = [lst_1,lst_2,lst_3]"
   ]
  },
  {
   "cell_type": "code",
   "execution_count": null,
   "metadata": {
    "collapsed": false
   },
   "outputs": [],
   "source": [
    "# Vediamo cosa è successo\n",
    "matrix"
   ]
  },
  {
   "cell_type": "markdown",
   "metadata": {},
   "source": [
    "A questo punto, con gli indici possiamo accedere ai singoli componenti della lista. Solo che adesso l'indice deve esprimere **due** livelli: la lista della matrice, e l'elemento di quella lista."
   ]
  },
  {
   "cell_type": "code",
   "execution_count": null,
   "metadata": {
    "collapsed": false
   },
   "outputs": [],
   "source": [
    "# Prendiamo il primo elemento della matrice: sarà una lista\n",
    "matrix[0]"
   ]
  },
  {
   "cell_type": "code",
   "execution_count": null,
   "metadata": {
    "collapsed": false
   },
   "outputs": [],
   "source": [
    "# Prendiamo il primo elemento del primo elemento\n",
    "matrix[0][0]"
   ]
  },
  {
   "cell_type": "markdown",
   "metadata": {},
   "source": [
    "# Presentazione delle List Comprehension\n",
    "\n",
    "Python ha una caratteristica avanzata che chiama list comprehension, che permette di costruire liste in modo molto veloce e intuitivo. \n",
    "\n",
    "Le list comprehension sono intimamente legate ai cicli di ``for``, capendo quelle si capiscono meglio anche questi.\n",
    "\n",
    "Proviamo con un piccolo assaggio...\n",
    "\n",
    "```\n",
    "Ricapitolando: la nostra matrice è fatta così:\n",
    "[ [1, 2, 3],\n",
    "  [4, 5, 6],\n",
    "  [7, 8, 9]\n",
    "]\n",
    "```\n",
    "Supponiamo di voler prendere la matrice per riga, anziché per colonna. Come? Dobbiamo:\n",
    "1. lista dei primi elementi di ciascuna riga = prima colonna\n",
    "1. lista dei secondi elementi di ciascuna riga = seconda colonna\n",
    "1. lista dei terzi elementi di ciascuna riga = terza colonna\n",
    "\n",
    "Ovviamente ognuno di questi passi è la stessa operazione ripetuta per ciascuna riga. Da cui la necessità dei cicli.\n",
    "\n",
    "La cosa interessante delle list comprehension è che si spiegano meglio \"leggendole\" che spiegandole:"
   ]
  },
  {
   "cell_type": "code",
   "execution_count": null,
   "metadata": {
    "collapsed": false
   },
   "outputs": [],
   "source": [
    "# \"La prima colonna è la lista dei primi elementi di ciascuna riga della matrice\"\n",
    "prima_col = [riga[0] for riga in matrix]"
   ]
  },
  {
   "cell_type": "code",
   "execution_count": null,
   "metadata": {
    "collapsed": false
   },
   "outputs": [],
   "source": [
    "prima_col"
   ]
  },
  {
   "cell_type": "code",
   "execution_count": null,
   "metadata": {
    "collapsed": true
   },
   "outputs": [],
   "source": [
    "# \"la seconda colonna è la lista dei secondi elementi di ciascuna riga della matrice\"\n",
    "seconda_col = [riga[1] for riga in matrix]"
   ]
  },
  {
   "cell_type": "markdown",
   "metadata": {},
   "source": [
    "In pratica, una list comprehension è un modo di creare una lista a partire da una ripetizione, in un solo comando."
   ]
  },
  {
   "cell_type": "markdown",
   "metadata": {},
   "source": [
    "Per ora è tutto, ma c'è molto altro da scoprire sulle list comprehension. Per questo ci sarà una lezione dedicata."
   ]
  },
  {
   "cell_type": "markdown",
   "metadata": {},
   "source": [
    "## Prossima lezione: Dizionari!"
   ]
  }
 ],
 "metadata": {
  "kernelspec": {
   "display_name": "Python 2",
   "language": "python",
   "name": "python2"
  },
  "language_info": {
   "codemirror_mode": {
    "name": "ipython",
    "version": 2
   },
   "file_extension": ".py",
   "mimetype": "text/x-python",
   "name": "python",
   "nbconvert_exporter": "python",
   "pygments_lexer": "ipython2",
   "version": "2.7.11"
  }
 },
 "nbformat": 4,
 "nbformat_minor": 0
}
