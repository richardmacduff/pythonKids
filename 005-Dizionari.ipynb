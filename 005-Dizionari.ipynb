{
 "cells": [
  {
   "cell_type": "markdown",
   "metadata": {},
   "source": [
    "# Dizionari\n",
    "\n",
    "Finora abbiamo parlato di *sequenze* in Python. Ma adesso cambiamo marcia e dedichiamoci alle *mappature*, che in Python si chiamano *dizionari*. Se conosci altri linguaggi di programmazione, puoi pensare ai dizionari come a tabelle hash.\n",
    "\n",
    "Questa lezione introduce i dizionari e spiega quanto segue:\n",
    "\n",
    "1. Creare un dizionario\n",
    "2. Accedere agli oggetti contenuti nel dizionario\n",
    "3. Dizionari innestati\n",
    "4. Metodi nativi dei dizionari\n",
    "\n",
    "Allora cosa sono queste mappature e cosa c'entrano i dizionari? Le mappature sono raccolte di oggetti che vengono archiviati secondo una *chiave* anziché secondo la loro posizione, come invece avviene per le liste. Questa è una distinzione fondamentale, perché gli oggetti in una mappatura non mantengono l'ordine originale, proprio perché i loro oggetti sono indicizzati da una chiave.\n",
    "\n",
    "Un dizionario Python è una raccolta di oggetti composti da una chiave e da un valore ad essa associato. Il valore può esere un qualsiasi oggetto Python.\n",
    "\n",
    "## Costruire un dizionario\n",
    "Il modo migliore per capire come funzionano i dizionari è di crearne uno. Vediamo:"
   ]
  },
  {
   "cell_type": "code",
   "execution_count": 1,
   "metadata": {
    "collapsed": true
   },
   "outputs": [],
   "source": [
    "# Per costruire un dizionario si usano le parentesi graffe {} e il duepunti : per separare la chiave dal valore\n",
    "mio_dict = {'chiave1':'valore1','chiave2':'valore2'}"
   ]
  },
  {
   "cell_type": "code",
   "execution_count": 2,
   "metadata": {
    "collapsed": false
   },
   "outputs": [
    {
     "data": {
      "text/plain": [
       "'valore2'"
      ]
     },
     "execution_count": 2,
     "metadata": {},
     "output_type": "execute_result"
    }
   ],
   "source": [
    "# Per ottenere il valore occorre accedere tramite la chiave\n",
    "mio_dict['chiave2']"
   ]
  },
  {
   "cell_type": "markdown",
   "metadata": {},
   "source": [
    "È fondamentale notare che i dizionari possono contenere oggetti di qualsiasi tipo. Per esempio:"
   ]
  },
  {
   "cell_type": "code",
   "execution_count": 3,
   "metadata": {
    "collapsed": true
   },
   "outputs": [],
   "source": [
    "mio_dict = {'chiave1':123,'chiave2':[12,23,33],'chiave3':['voce0','voce1','voce2']}"
   ]
  },
  {
   "cell_type": "code",
   "execution_count": 28,
   "metadata": {
    "collapsed": false
   },
   "outputs": [
    {
     "data": {
      "text/plain": [
       "{'chiave1': -369,\n",
       " 'chiave2': [12, 66, 33],\n",
       " 'chiave3': ['voce0', 'voce1', 'voce2']}"
      ]
     },
     "execution_count": 28,
     "metadata": {},
     "output_type": "execute_result"
    }
   ],
   "source": [
    "#Proviamo di nuovo ad accedere a un elemento del dizionario\n",
    "mio_dict['chiave2'][1] = 66\n",
    "mio_dict"
   ]
  },
  {
   "cell_type": "code",
   "execution_count": 5,
   "metadata": {
    "collapsed": false
   },
   "outputs": [
    {
     "data": {
      "text/plain": [
       "'voce0'"
      ]
     },
     "execution_count": 5,
     "metadata": {},
     "output_type": "execute_result"
    }
   ],
   "source": [
    "# Siccome questo elemento è una lista, possiamo accedere al suo interno!\n",
    "mio_dict['chiave3'][0]"
   ]
  },
  {
   "cell_type": "code",
   "execution_count": 6,
   "metadata": {
    "collapsed": false
   },
   "outputs": [
    {
     "data": {
      "text/plain": [
       "'VOCE0'"
      ]
     },
     "execution_count": 6,
     "metadata": {},
     "output_type": "execute_result"
    }
   ],
   "source": [
    "#E siccome quello che otteniamo è una stringa, possiamo chiamare un suo metodo. \n",
    "mio_dict['chiave3'][0].upper()"
   ]
  },
  {
   "cell_type": "markdown",
   "metadata": {},
   "source": [
    "Allo stesso modo, possiamo compiere altre operazioni sui valori delle chiavi. Per esempio:"
   ]
  },
  {
   "cell_type": "code",
   "execution_count": 7,
   "metadata": {
    "collapsed": false
   },
   "outputs": [
    {
     "data": {
      "text/plain": [
       "123"
      ]
     },
     "execution_count": 7,
     "metadata": {},
     "output_type": "execute_result"
    }
   ],
   "source": [
    "# questo ci restituisce un intero\n",
    "mio_dict['chiave1']"
   ]
  },
  {
   "cell_type": "code",
   "execution_count": 23,
   "metadata": {
    "collapsed": false
   },
   "outputs": [],
   "source": [
    "# Ma visto che è un intero, possiamo farci dei conti, e siccome è un valore di un dizionario, possiamo riassegnarlo\n",
    "mio_dict['chiave1'] = mio_dict['chiave1'] - 123"
   ]
  },
  {
   "cell_type": "code",
   "execution_count": 24,
   "metadata": {
    "collapsed": false
   },
   "outputs": [
    {
     "data": {
      "text/plain": [
       "{'chiave1': -369,\n",
       " 'chiave2': [12, 23, 33],\n",
       " 'chiave3': ['voce0', 'voce1', 'voce2']}"
      ]
     },
     "execution_count": 24,
     "metadata": {},
     "output_type": "execute_result"
    }
   ],
   "source": [
    "#E magicamente...\n",
    "mio_dict"
   ]
  },
  {
   "cell_type": "markdown",
   "metadata": {},
   "source": [
    " Un piccola nota: in Python, come in altri linguaggi, esiste una scorciatoia per compiere un'operazione aritmetica sul contenuto di una variabile e riassegnare il risultato a quella stessa variabile.\n",
    "Cose come ```var = var +5``` oppure ```var = var - 5``` per intenderci.\n",
    "\n",
    "Esistono gli operatori ```+= -= *= e /=```\n",
    "\n",
    "Per esempio:"
   ]
  },
  {
   "cell_type": "code",
   "execution_count": 10,
   "metadata": {
    "collapsed": false
   },
   "outputs": [
    {
     "data": {
      "text/plain": [
       "-123"
      ]
     },
     "execution_count": 10,
     "metadata": {},
     "output_type": "execute_result"
    }
   ],
   "source": [
    "# Assegna all'oggetto il valore che ha meno 123\n",
    "mio_dict['chiave1'] -= 123\n",
    "mio_dict['chiave1']"
   ]
  },
  {
   "cell_type": "markdown",
   "metadata": {},
   "source": [
    "Le chiavi possono essere create alla bisogna, quando occorre aggiungere un oggetto al dizionario. Possiamo partire creando un dizionario vuoto e aggiungere oggetti mano a mano che serve:"
   ]
  },
  {
   "cell_type": "code",
   "execution_count": 11,
   "metadata": {
    "collapsed": true
   },
   "outputs": [],
   "source": [
    "# Creiamo un nuov dizionario\n",
    "d = {}"
   ]
  },
  {
   "cell_type": "code",
   "execution_count": 12,
   "metadata": {
    "collapsed": false
   },
   "outputs": [],
   "source": [
    "# Creiamo una nuova chiave con un assegnamento\n",
    "d['animale'] = 'Cane'"
   ]
  },
  {
   "cell_type": "code",
   "execution_count": 13,
   "metadata": {
    "collapsed": true
   },
   "outputs": [],
   "source": [
    "# Possiamo farlo con ogni tipo di oggetto\n",
    "d['risposta'] = 42"
   ]
  },
  {
   "cell_type": "code",
   "execution_count": 14,
   "metadata": {
    "collapsed": false
   },
   "outputs": [
    {
     "data": {
      "text/plain": [
       "{'animale': 'Cane', 'risposta': 42}"
      ]
     },
     "execution_count": 14,
     "metadata": {},
     "output_type": "execute_result"
    }
   ],
   "source": [
    "#Ta-da!\n",
    "d"
   ]
  },
  {
   "cell_type": "markdown",
   "metadata": {},
   "source": [
    "## Dizionari innestati\n",
    "\n",
    "Ci sono volte in cui una struttura dati ha bisogno di essere complessa. Per fortuna Python non scarseggia quanto a flessibilità. Ad esempio, possiamo mettere un dizionario dentro un altro:"
   ]
  },
  {
   "cell_type": "code",
   "execution_count": 15,
   "metadata": {
    "collapsed": true
   },
   "outputs": [],
   "source": [
    "# Dizionario dentro un dizionario dentro un dizionario\n",
    "d = {'chiave1':{'sottochiave':{'sottosottochiave':'valore'}}}"
   ]
  },
  {
   "cell_type": "markdown",
   "metadata": {},
   "source": [
    "Epperò! Non male come annidamento. Vediamo come facciamo a raggiungere quel valore. Qualche idea?"
   ]
  },
  {
   "cell_type": "code",
   "execution_count": 16,
   "metadata": {
    "collapsed": false
   },
   "outputs": [
    {
     "data": {
      "text/plain": [
       "'valore'"
      ]
     },
     "execution_count": 16,
     "metadata": {},
     "output_type": "execute_result"
    }
   ],
   "source": [
    "# Basta elencare le chiavi!\n",
    "d['chiave1']['sottochiave']['sottosottochiave']"
   ]
  },
  {
   "cell_type": "markdown",
   "metadata": {},
   "source": [
    "## Alcuni metodi dei dizionari\n",
    "\n",
    "Anche i dizionari hanno alcuni metodi di default. Vediamoli rapidamente:"
   ]
  },
  {
   "cell_type": "code",
   "execution_count": 17,
   "metadata": {
    "collapsed": true
   },
   "outputs": [],
   "source": [
    "# Prima creiamo il tipico dizionario\n",
    "d = {'chiave1':1,'chiave2':2,'chiave3':3}"
   ]
  },
  {
   "cell_type": "code",
   "execution_count": 18,
   "metadata": {
    "collapsed": false
   },
   "outputs": [
    {
     "data": {
      "text/plain": [
       "dict_keys(['chiave3', 'chiave1', 'chiave2'])"
      ]
     },
     "execution_count": 18,
     "metadata": {},
     "output_type": "execute_result"
    }
   ],
   "source": [
    "# C'è un metodo per sapere quali sono le chiavi. Altrimenti come farei ad accedere? \n",
    "# NOTA BENE: le chiavi compaiono in un ordine che NON è quello di inserimento\n",
    "d.keys()"
   ]
  },
  {
   "cell_type": "code",
   "execution_count": 19,
   "metadata": {
    "collapsed": false
   },
   "outputs": [
    {
     "data": {
      "text/plain": [
       "dict_values([3, 1, 2])"
      ]
     },
     "execution_count": 19,
     "metadata": {},
     "output_type": "execute_result"
    }
   ],
   "source": [
    "# Esiste anche il modo di ottenere tutti i valori del dizionario\n",
    "d.values()"
   ]
  },
  {
   "cell_type": "code",
   "execution_count": 20,
   "metadata": {
    "collapsed": false
   },
   "outputs": [
    {
     "data": {
      "text/plain": [
       "dict_items([('chiave3', 3), ('chiave1', 1), ('chiave2', 2)])"
      ]
     },
     "execution_count": 20,
     "metadata": {},
     "output_type": "execute_result"
    }
   ],
   "source": [
    "# Ed esiste anche un metodo per ottenere le tuple di tutti gli elementi del dizionario\n",
    "# Le tuple le vediamo fra poco, per il momento pensiamole come sono: coppie nome-valore\n",
    "d.items()"
   ]
  },
  {
   "cell_type": "markdown",
   "metadata": {},
   "source": [
    "A questo punto dovresti saperne abbastanza per cominciare a fare qualche prova con i dizionari. Ci sono molte altre cose da sapere, ma ci torneremo. Per il momento, sai costruire un dizionario e accedere ai valori che contiene. "
   ]
  },
  {
   "cell_type": "markdown",
   "metadata": {},
   "source": [
    "## Prossima lezione: Tuple!"
   ]
  }
 ],
 "metadata": {
  "kernelspec": {
   "display_name": "Python 3",
   "language": "python",
   "name": "python3"
  },
  "language_info": {
   "codemirror_mode": {
    "name": "ipython",
    "version": 3
   },
   "file_extension": ".py",
   "mimetype": "text/x-python",
   "name": "python",
   "nbconvert_exporter": "python",
   "pygments_lexer": "ipython3",
   "version": "3.5.1"
  }
 },
 "nbformat": 4,
 "nbformat_minor": 0
}
