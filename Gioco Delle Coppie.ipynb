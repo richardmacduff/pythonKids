{
 "cells": [
  {
   "cell_type": "markdown",
   "metadata": {},
   "source": [
    "# Il gioco delle coppie\n",
    "\n",
    "Da bambini era divertente giocare a quel gioco in cui su un foglietto di carta a turno ciascuno scriveva \"chi è lui, chi è lei, dove sono, cosa fanno\". A ogni passaggio il foglietto veniva ripiegato e alla fine il risultato comico era garantito, con cose tipo:\n",
    "\n",
    "> Giovanni Masetti  \n",
    ">e la maestra Pina  \n",
    ">nel bidone della spazzatura  \n",
    ">fanno la spesa  \n",
    ">lui dice \"ti prego non uccidermi\"  \n",
    ">lei dice \"voglio andare al cinema\"  \n",
    ">la gente dice \"bambini state zitti\n",
    "\n",
    "Da bambini si ride con poco, ma di gusto.\n",
    "\n",
    "Il progetto di oggi vuole riprodurre questo gioco, trasformando il computer in un generatore di frasi del tipo \"chi è lui, chi è lei\"."
   ]
  },
  {
   "cell_type": "markdown",
   "metadata": {},
   "source": [
    "## Domande iniziali\n",
    "\n",
    "Quale struttura dati è la più naturale per&hellip;:\n",
    "\n",
    "1. &hellip;costruire una frase?\n",
    "1. &hellip;contenere elementi distinti?\n",
    "\n",
    "Inoltre: qual è la struttura di massima del programma?"
   ]
  },
  {
   "cell_type": "code",
   "execution_count": null,
   "metadata": {
    "collapsed": true
   },
   "outputs": [],
   "source": [
    "# file per il gioco delle coppie\n",
    "# \"chi è lui, chi è lei, dove sono, cosa fanno...\"\n",
    "\n",
    "#definisco delle liste per i componenti della frase\n",
    "\n",
    "lui_l = [\"mario\", \"il prof Vannini\", \"Trump\", \"mio cuggino\", \"il sindaco\" ]\n",
    "lei_l = []\n",
    "dove_l = []\n",
    "cosa_l = []\n",
    "diceLui_l = []\n",
    "diceLei_l = []\n",
    "dice_gente = []\n",
    "\n",
    "#una variabile per montare la frase dai vari pezzi. Mi assicuro che sia vuota\n",
    "frase = \"\"\n",
    "\n",
    "#struttura principale del programma\n",
    "#\n",
    "# ripeti con i per tutte le liste\n",
    "#     x = elemento a caso della lista i\n",
    "#     frase.append(l)\n",
    "# print(frase)\n"
   ]
  }
 ],
 "metadata": {
  "kernelspec": {
   "display_name": "Python 3",
   "language": "python",
   "name": "python3"
  },
  "language_info": {
   "codemirror_mode": {
    "name": "ipython",
    "version": 3
   },
   "file_extension": ".py",
   "mimetype": "text/x-python",
   "name": "python",
   "nbconvert_exporter": "python",
   "pygments_lexer": "ipython3",
   "version": "3.5.1"
  }
 },
 "nbformat": 4,
 "nbformat_minor": 2
}
