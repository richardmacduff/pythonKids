{
 "cells": [
  {
   "cell_type": "markdown",
   "metadata": {},
   "source": [
    "# Tuple\n",
    "\n",
    "Le tuple di Python sono molto simili alle liste. A differenza di queste ultime, però, **le tuple sono immutabili**. Una tupla **non può** venire modificata.\n",
    "\n",
    "Le tuple si usano quando si vogliono rappresentare oggetti immutabili: i giorni della settimana, le date del calendario.\n",
    "\n",
    "In questa lezione veediamo una panoramica di:\n",
    "\n",
    "1. Come costruire una tupla\n",
    "2. Metodi base delle tuple\n",
    "3. Immutabilità\n",
    "4. quando usare una tupla.\n",
    "\n",
    "Se abbiamo già capito le liste, l'uso delle tuple dovrebbe già  essere abbastanza chiaro. Possiamo trattare le tuple come se fossero liste, con in più il fatto di essere immutabili.\n",
    "\n",
    "## Come sotruire una tupla\n",
    "\n",
    "Una tupla si crea mettendo i suoi elementi fra parentesi tonde ```()``` separati da virgole: Così:"
   ]
  },
  {
   "cell_type": "code",
   "execution_count": 9,
   "metadata": {
    "collapsed": false
   },
   "outputs": [
    {
     "name": "stdout",
     "output_type": "stream",
     "text": [
      "(1, 2, 3)\n"
     ]
    }
   ],
   "source": [
    "# Possiamo creare una tupla di oggetti di tipo diverso\n",
    "t = (1,2,3)\n",
    "print t"
   ]
  },
  {
   "cell_type": "code",
   "execution_count": 8,
   "metadata": {
    "collapsed": false
   },
   "outputs": [
    {
     "data": {
      "text/plain": [
       "3"
      ]
     },
     "execution_count": 8,
     "metadata": {},
     "output_type": "execute_result"
    }
   ],
   "source": [
    "# Possiamo avere la lunghezza di una tupla, proprio come fosse una lista\n",
    "len(t)"
   ]
  },
  {
   "cell_type": "code",
   "execution_count": 16,
   "metadata": {
    "collapsed": false
   },
   "outputs": [
    {
     "data": {
      "text/plain": [
       "('uno', 2)"
      ]
     },
     "execution_count": 16,
     "metadata": {},
     "output_type": "execute_result"
    }
   ],
   "source": [
    "# Possiamo avere tuple di oggetti di tpo diverso\n",
    "t = ('uno',2)\n",
    "\n",
    "# Show\n",
    "t"
   ]
  },
  {
   "cell_type": "code",
   "execution_count": 17,
   "metadata": {
    "collapsed": false
   },
   "outputs": [
    {
     "data": {
      "text/plain": [
       "'uno'"
      ]
     },
     "execution_count": 17,
     "metadata": {},
     "output_type": "execute_result"
    }
   ],
   "source": [
    "# Possiamo usare gli indici, proprio come con le liste\n",
    "t[0]"
   ]
  },
  {
   "cell_type": "code",
   "execution_count": 12,
   "metadata": {
    "collapsed": false
   },
   "outputs": [
    {
     "data": {
      "text/plain": [
       "2"
      ]
     },
     "execution_count": 12,
     "metadata": {},
     "output_type": "execute_result"
    }
   ],
   "source": [
    "# E possiamo fare slicing, proprio come le liste\n",
    "t[-1]"
   ]
  },
  {
   "cell_type": "markdown",
   "metadata": {},
   "source": [
    "## Metodi base delle tuple\n",
    "\n",
    "Le tuple hanno dei metodi, ma non quanti ne hanno le liste. Vediamone due:"
   ]
  },
  {
   "cell_type": "code",
   "execution_count": 22,
   "metadata": {
    "collapsed": false
   },
   "outputs": [
    {
     "data": {
      "text/plain": [
       "0"
      ]
     },
     "execution_count": 22,
     "metadata": {},
     "output_type": "execute_result"
    }
   ],
   "source": [
    "# Si usa .index per ottenere l'indice di un valore. ATTENZIONE!!! se il valore non esiste, si ottiene un errore\n",
    "t.index('uno')"
   ]
  },
  {
   "cell_type": "code",
   "execution_count": 25,
   "metadata": {
    "collapsed": false
   },
   "outputs": [
    {
     "data": {
      "text/plain": [
       "0"
      ]
     },
     "execution_count": 25,
     "metadata": {},
     "output_type": "execute_result"
    }
   ],
   "source": [
    "# Si usa .count per contare il numero di volte che un dato valore compare. Se il valore non compare, si ottiene 0.\n",
    "t.count('pippo')"
   ]
  },
  {
   "cell_type": "markdown",
   "metadata": {},
   "source": [
    "## Immutabilità\n",
    "\n",
    "Vale la pena ripetere: **le tuple sono immutabili**:"
   ]
  },
  {
   "cell_type": "code",
   "execution_count": 26,
   "metadata": {
    "collapsed": false
   },
   "outputs": [
    {
     "ename": "TypeError",
     "evalue": "'tuple' object does not support item assignment",
     "output_type": "error",
     "traceback": [
      "\u001b[1;31m---------------------------------------------------------------------------\u001b[0m",
      "\u001b[1;31mTypeError\u001b[0m                                 Traceback (most recent call last)",
      "\u001b[1;32m<ipython-input-26-2d10ac259b00>\u001b[0m in \u001b[0;36m<module>\u001b[1;34m()\u001b[0m\n\u001b[0;32m      1\u001b[0m \u001b[1;31m# proviamo ad assegnare un nuovo valore al primo elemento\u001b[0m\u001b[1;33m\u001b[0m\u001b[1;33m\u001b[0m\u001b[0m\n\u001b[1;32m----> 2\u001b[1;33m \u001b[0mt\u001b[0m\u001b[1;33m[\u001b[0m\u001b[1;36m0\u001b[0m\u001b[1;33m]\u001b[0m\u001b[1;33m=\u001b[0m \u001b[1;34m'nuovo'\u001b[0m\u001b[1;33m\u001b[0m\u001b[0m\n\u001b[0m",
      "\u001b[1;31mTypeError\u001b[0m: 'tuple' object does not support item assignment"
     ]
    }
   ],
   "source": [
    "# proviamo ad assegnare un nuovo valore al primo elemento\n",
    "t[0]= 'nuovo'"
   ]
  },
  {
   "cell_type": "markdown",
   "metadata": {},
   "source": [
    "Proprio perché sono immutabili, le tuple non possono nemmeno crescere (a differenza delle stringhe)"
   ]
  },
  {
   "cell_type": "code",
   "execution_count": 27,
   "metadata": {
    "collapsed": false
   },
   "outputs": [
    {
     "ename": "AttributeError",
     "evalue": "'tuple' object has no attribute 'append'",
     "output_type": "error",
     "traceback": [
      "\u001b[1;31m---------------------------------------------------------------------------\u001b[0m",
      "\u001b[1;31mAttributeError\u001b[0m                            Traceback (most recent call last)",
      "\u001b[1;32m<ipython-input-27-436d995fa554>\u001b[0m in \u001b[0;36m<module>\u001b[1;34m()\u001b[0m\n\u001b[1;32m----> 1\u001b[1;33m \u001b[0mt\u001b[0m\u001b[1;33m.\u001b[0m\u001b[0mappend\u001b[0m\u001b[1;33m(\u001b[0m\u001b[1;34m'eh no'\u001b[0m\u001b[1;33m)\u001b[0m\u001b[1;33m\u001b[0m\u001b[0m\n\u001b[0m",
      "\u001b[1;31mAttributeError\u001b[0m: 'tuple' object has no attribute 'append'"
     ]
    }
   ],
   "source": [
    "t.append('eh no')"
   ]
  },
  {
   "cell_type": "markdown",
   "metadata": {},
   "source": [
    "## Quando usare le tuple\n",
    "\n",
    "A questo punto è normale chiedersi:\n",
    "\n",
    ">Ma perché diavolo usare le tuple quando ci sono le liste?\n",
    "\n",
    "Allora: le tuple sono usate **meno** delle liste, ma si usano quando serve un oggetto immutabile. Se nel programma vogliamo passare un oggetto ed essere sicuri che non venga modificato, allora la tupla è la soluzione che cerchiamo. È un modo pratico di garantire l'integrità dei dati.\n",
    "\n",
    "Dopo questa piccola introduzione sei già in grado di usare le tuple quando servono.\n",
    "\n",
    "**Prossima puntata: File!**"
   ]
  }
 ],
 "metadata": {
  "kernelspec": {
   "display_name": "Python 2",
   "language": "python",
   "name": "python2"
  },
  "language_info": {
   "codemirror_mode": {
    "name": "ipython",
    "version": 2
   },
   "file_extension": ".py",
   "mimetype": "text/x-python",
   "name": "python",
   "nbconvert_exporter": "python",
   "pygments_lexer": "ipython2",
   "version": "2.7.11"
  }
 },
 "nbformat": 4,
 "nbformat_minor": 0
}
