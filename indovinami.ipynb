{
 "cells": [
  {
   "cell_type": "markdown",
   "metadata": {
    "collapsed": true
   },
   "source": [
    "# Test di lettura e comprensione"
   ]
  },
  {
   "cell_type": "markdown",
   "metadata": {},
   "source": [
    "## Cosa fa questo codice?\n",
    "\n",
    "```\n",
    "# e scriviamolo sto programma\n",
    "pjanic = 5\n",
    "\n",
    "chiellini = []; higuain = []\n",
    "\n",
    "for marchisio in range(10):\n",
    "    if (marchisio < pjanic):\n",
    "        chiellini.append(marchisio)\n",
    "    else:\n",
    "        higuain.append(marchisio)\n",
    "print \"chiellini:\", chiellini\n",
    "print \"higuain:\", higuain\n",
    "```\n",
    "\n",
    "In poche righe concentriamo una grande quantità di errori ma anche di informazioni.\n",
    "Attenzione, gli errori non sono sintattici, ma di stile. Ossia: \n",
    "\n",
    "- il programma funziona\n",
    "- il solo a fare più fatica del necessario è l'umano che lo deve capire o modificare\n",
    "<br />\n",
    "Partiamo:<br />"
   ]
  },
  {
   "cell_type": "markdown",
   "metadata": {},
   "source": [
    "```\n",
    "# e scriviamolo sto programma\n",
    "```\n",
    "\n",
    "**commento:**\n",
    "\n",
    "1. tutto quello che segue un segno di # è un commento e non codice\n",
    "1. i commenti esistono per spiegare che cosa dovrebbe fare il codice\n",
    "\n",
    "\n",
    "Questo perché, a differenza di ciò che pensano molti programmatori:\n",
    "\n",
    "1. il codice non è autoesplicativo\n",
    "2. esiste sempre una maniera differente di ottnere un certo risultato\n",
    "\n",
    "andiamo avanti:\n",
    "\n",
    "`pjanic = 5`\n",
    "\n",
    "In python una parola che non è riservata per python (un comando o una funzione) è una **variabile**. Le variabili contengono un valore che può essere letto e scritto. \n",
    "\n",
    "**commento:**\n",
    "\n",
    "1. si *assegna* un valore a una variabile con l'operatore **=**\n",
    "2. per segnalare che il comando è completato si va **a capo**\n",
    "\n",
    "Lo spazio prima e dopo l'operatore è una buona abitudine (rende le cose più leggibili).\n",
    "\n",
    "`chiellini = []; higuain = []`\n",
    "\n",
    "Questi sono altri **due** assegnamenti. alle due variabili viene assegnato il valore \"stinga vuota\" (**[]**).\n",
    "In questo modo, so che le due variabili conterranno delle liste.\n",
    "\n",
    "**commento:**\n",
    "\n",
    "1. è possibile mettere due comandi sulla stessa riga separandoli con punto e virgola\n",
    "1. assegnare un valore iniziale di [] è **utile** perché le liste si costruiscono aggiungendo via via altri elementi (e quindi se ci fosse un qualche valore iniziale che non abbiamo deciso noi potrebbe costituire un problema)\n",
    "\n",
    "```\n",
    "for marchisio in range(10):\n",
    "    if (marchisio < pjanic):\n",
    "        chiellini.append(marchisio)\n",
    "    else:\n",
    "        higuain.append(marchisio)\n",
    "```\n",
    "\n",
    "Qui siamo di fronte a un ciclo *definito*: sappiamo in anticipo il numero di ripetizioni (10).\n",
    "All'interno del ciclo si trova una decisione (`if`): quella fra parentesi che segue la keyword `if` è una **condizione**. Se la condizione è vera (True), si eseguono le istruzioni del ramo `if`, altrimenti (ossia la condizione è falsa) si eseguono quelle del ramo `else`. **Solo un ramo** viene eseguito.\n",
    "\n",
    "**commento:**\n",
    "\n",
    "1. statement come `for` e `if` \"contengono\" altri statement\n",
    "1. questo lo si riconosce dai due punti che \"aprono\" l'ingresso ai contenuti\n",
    "1. i contenuti sono indentati rispetto al contenente\n",
    "1. questo significa che **gli spazi sono importanti**\n",
    "1. quando l'indentazione termina, significa che siamo \"usciti\" dai contenuti\n",
    "1. nel ciclo `for` una variabile chiamata \"indice\" assume dei valori in successione; questi valori devono essere indicati. In questo caso, i dieci numeri da `0` a `9` (ossia il risultato di `range(10)`)\n",
    "\n",
    "`chiellini.append(marchisio)`\n",
    "\n",
    "`chiellini` è una variabile di tipo List. Le liste hanno delle funzioni predefinite, fra cui `append`. Per invocare una funzione e applicarla a un oggetto, si usa la sintassi:\n",
    "\n",
    "`variabile.funzione(argomento)`\n",
    "\n",
    "in questo caso leggeremo *appendi la variabile `marchisio` alla lista `chiellini`*\n",
    "\n",
    "`print \"chiellini:\", chiellini\n",
    "print \"higuain:\", higuain`\n",
    "\n",
    "Questi ultimi due statement si limitano a stampare le due liste, precedendole con i rispettivi nomi."
   ]
  },
  {
   "cell_type": "markdown",
   "metadata": {},
   "source": [
    "### Sì, ma *cosa* fa questo programma?\n",
    "\n",
    "Torniamo al ciclo principale, che costituisce il \"cuore del programma\":\n",
    "\n",
    "```\n",
    "for marchisio in range(10):\n",
    "    if (marchisio < pjanic):\n",
    "        chiellini.append(marchisio)\n",
    "    else:\n",
    "        higuain.append(marchisio)\n",
    "```        \n",
    "\n",
    "Ragioniamo:\n",
    "\n",
    "1. la variabile `marchisio` assume a turno tutti i valori da `0` a `9`\n",
    "1. la variabile `pjanic` ha il valore (costante di 5)\n",
    "1. a ogni iterazione, se `marchisio` è minore di `pjanic` (ossia minore di `5`) viene aggiunto alla lista `chiellini`, altrimenti alla lista `higuain`\n",
    "\n",
    "Quindi, alla fine del ciclo, la lista `chiellini` conterrà i numeri da 0 a 4, mentre la lista  `higuain` quelli da 5 a 9.<br />\n",
    "Proviamo:"
   ]
  },
  {
   "cell_type": "code",
   "execution_count": 3,
   "metadata": {
    "collapsed": false
   },
   "outputs": [
    {
     "name": "stdout",
     "output_type": "stream",
     "text": [
      "chiellini: [0, 1, 2, 3, 4]\n",
      "higuain: [5, 6, 7, 8, 9]\n"
     ]
    }
   ],
   "source": [
    "pjanic = 5\n",
    "\n",
    "chiellini = []; higuain = []\n",
    "\n",
    "for marchisio in range(10):\n",
    "    if (marchisio < pjanic):\n",
    "        chiellini.append(marchisio)\n",
    "    else:\n",
    "        higuain.append(marchisio)\n",
    "print \"chiellini:\", chiellini\n",
    "print \"higuain:\", higuain"
   ]
  },
  {
   "cell_type": "markdown",
   "metadata": {},
   "source": [
    "Esatto."
   ]
  }
 ],
 "metadata": {
  "kernelspec": {
   "display_name": "Python 2",
   "language": "python",
   "name": "python2"
  },
  "language_info": {
   "codemirror_mode": {
    "name": "ipython",
    "version": 2
   },
   "file_extension": ".py",
   "mimetype": "text/x-python",
   "name": "python",
   "nbconvert_exporter": "python",
   "pygments_lexer": "ipython2",
   "version": "2.7.11"
  }
 },
 "nbformat": 4,
 "nbformat_minor": 0
}
