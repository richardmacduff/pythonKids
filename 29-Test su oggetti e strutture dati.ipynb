{
 "cells": [
  {
   "cell_type": "markdown",
   "metadata": {},
   "source": [
    "# Test su oggetti e strutture dati"
   ]
  },
  {
   "cell_type": "markdown",
   "metadata": {
    "collapsed": true
   },
   "source": [
    "Diamo una breve descrizione dei tipi di oggetto e di struttura dati che useremo nel test:"
   ]
  },
  {
   "cell_type": "markdown",
   "metadata": {},
   "source": [
    "* Numeri: interi o float (in virgola mobile), con segno. Ad es.: -2 è un intero; 3.14 è un float.\n",
    "\n",
    "* Stringhe: sequenza di caratteri. Il contenuto di una stringa non può essere modificato, ma una stringa può essere concatenata, ad esempio\n",
    "\n",
    "```\n",
    "s = \"hello, world\"\n",
    "s = \"s + \"!\"\n",
    "# il valore di s è: \"hello, world!\"\n",
    "\n",
    "```\n",
    "* Liste: array con un numero non prefissato di elementi; una sequenza **ordinata** di oggetti di qualsiasi tipo, ad esempio: `l = [1, 'lettera', 3.14]`\n",
    "* Tuple: come le liste, ma immutabili e con i soli metodi `index` e `count`\n",
    "* Dizionari: detti tabelle hash o array associativi. Raccolte **non ordinate** di coppie chiave-valore, ad es.: d = {`nome`:`Mario`}"
   ]
  },
  {
   "cell_type": "markdown",
   "metadata": {},
   "source": [
    "## Numeri\n",
    "\n",
    "Scrivere un'espressione che usi moltiplicazione, divisione, un'elevamento a potenza, addizione e sottrazione e il cui risultato sia 100.25\n",
    "\n",
    "Nota: questo serve solo a rinfrescare la memoria sugli operatori aritmetici fondamentali. Parti dal risultato e lavora al contrario."
   ]
  },
  {
   "cell_type": "code",
   "execution_count": null,
   "metadata": {
    "collapsed": false
   },
   "outputs": [],
   "source": [
    "(1.25 + (2*5)**2 -1)*(3/3)"
   ]
  },
  {
   "cell_type": "markdown",
   "metadata": {},
   "source": [
    "Spiega cosa produce la cella qui sotto e perché lo fa. Cosa puoi fare per ottenere il risultato matematicamente corretto?"
   ]
  },
  {
   "cell_type": "code",
   "execution_count": null,
   "metadata": {
    "collapsed": false
   },
   "outputs": [],
   "source": [
    "2/3"
   ]
  },
  {
   "cell_type": "markdown",
   "metadata": {},
   "source": [
    "**A: Python 2 fa una divisione intera. La vera divisione si può ottenere:**\n",
    "\n",
    "1. importando dalla libreria `__future__`\n",
    "2. oppure trasformando uno dei due opeandi in un numero float."
   ]
  },
  {
   "cell_type": "markdown",
   "metadata": {},
   "source": [
    "Rispondi a queste tre  domande senza scrivere codice. Poi scrivi il calcolo nella casella successiva e controlla.\n",
    "\n",
    "    Qual è il valore dell'espressione 5 * (6 + 7)\n",
    "    \n",
    "    Qual è il valore dell'espressione 5 * 6 + 7\n",
    "    \n",
    "    Qual è il valore dell'espressione 5 + 6 * 7"
   ]
  },
  {
   "cell_type": "code",
   "execution_count": null,
   "metadata": {
    "collapsed": false
   },
   "outputs": [],
   "source": []
  },
  {
   "cell_type": "markdown",
   "metadata": {},
   "source": [
    "Il risultao dell'espressione 5 + 2.7 + 9 di che *tipo* è?"
   ]
  },
  {
   "cell_type": "markdown",
   "metadata": {},
   "source": [
    "**Risposta:**"
   ]
  },
  {
   "cell_type": "markdown",
   "metadata": {},
   "source": [
    "Come ai a calcolare il quadrato di un numero? La sua radice quadrata?"
   ]
  },
  {
   "cell_type": "code",
   "execution_count": null,
   "metadata": {
    "collapsed": false
   },
   "outputs": [],
   "source": [
    "#fai stampare il quadrato di 4\n",
    "print\n",
    "# fai stampare la radice quadrata di 4\n",
    "print"
   ]
  },
  {
   "cell_type": "markdown",
   "metadata": {},
   "source": [
    "## Stringhe"
   ]
  },
  {
   "cell_type": "markdown",
   "metadata": {},
   "source": [
    "Prendi la stringa \"hello\" ed estrai il carattere \"e\" usando l'accesso per indice. Usa il codice qui sotto:"
   ]
  },
  {
   "cell_type": "code",
   "execution_count": null,
   "metadata": {
    "collapsed": false
   },
   "outputs": [],
   "source": [
    "s = 'hello'\n",
    "# Stampa 'e' usando l'accesso per indice\n",
    "# scrivi qui sotto il tuo codice\n"
   ]
  },
  {
   "cell_type": "markdown",
   "metadata": {},
   "source": [
    "Capovolgi la stringa usando l'accesso per indice:"
   ]
  },
  {
   "cell_type": "code",
   "execution_count": null,
   "metadata": {
    "collapsed": false
   },
   "outputs": [],
   "source": [
    "s ='hello'\n",
    "\n",
    "# Capovolgi la stringa usando l'accesso per indice:\n",
    "# Metti qui sotto il tuo codice ed esegui\n"
   ]
  },
  {
   "cell_type": "markdown",
   "metadata": {},
   "source": [
    "Partendo dalla stringa 'hello', dai due modi di produrre la lettera 'o' usando l'accesso per indice."
   ]
  },
  {
   "cell_type": "code",
   "execution_count": null,
   "metadata": {
    "collapsed": false
   },
   "outputs": [],
   "source": [
    "s ='hello'\n",
    "\n",
    "# fai scrivere 'o'\n",
    "# scrivi qui sotto il tuo codice\n"
   ]
  },
  {
   "cell_type": "markdown",
   "metadata": {},
   "source": [
    "## Liste"
   ]
  },
  {
   "cell_type": "markdown",
   "metadata": {},
   "source": [
    "Costruisci la lista [0,0,0] in due modi diversi"
   ]
  },
  {
   "cell_type": "code",
   "execution_count": null,
   "metadata": {
    "collapsed": false
   },
   "outputs": [],
   "source": [
    "#primo metodo\n"
   ]
  },
  {
   "cell_type": "code",
   "execution_count": null,
   "metadata": {
    "collapsed": false
   },
   "outputs": [],
   "source": [
    "#secondo metodo\n"
   ]
  },
  {
   "cell_type": "markdown",
   "metadata": {},
   "source": [
    "sostituisci 'addio' al posto dell'elemento 'salve' in questa lista di liste:"
   ]
  },
  {
   "cell_type": "code",
   "execution_count": null,
   "metadata": {
    "collapsed": false,
    "scrolled": true
   },
   "outputs": [],
   "source": [
    "#questa è la lista di partenza\n",
    "l = [1,2,[3,4,'hello']]"
   ]
  },
  {
   "cell_type": "code",
   "execution_count": null,
   "metadata": {
    "collapsed": false
   },
   "outputs": [],
   "source": [
    "#scrivi qui sotto il tuo codice poi stampa la lista\n",
    "\n"
   ]
  },
  {
   "cell_type": "markdown",
   "metadata": {},
   "source": [
    "Ordina la lista che segue:"
   ]
  },
  {
   "cell_type": "code",
   "execution_count": null,
   "metadata": {
    "collapsed": false
   },
   "outputs": [],
   "source": [
    "l = [3,4,5,5,6]"
   ]
  },
  {
   "cell_type": "code",
   "execution_count": null,
   "metadata": {
    "collapsed": false
   },
   "outputs": [],
   "source": [
    "#scrivi qui il tuo codice e poi stampa la lista\n"
   ]
  },
  {
   "cell_type": "markdown",
   "metadata": {},
   "source": [
    "## Dizionari"
   ]
  },
  {
   "cell_type": "markdown",
   "metadata": {},
   "source": [
    "Usando chiavi e indici, fai stampare l'elemento 'hello' dai seguenti dizionari:"
   ]
  },
  {
   "cell_type": "code",
   "execution_count": null,
   "metadata": {
    "collapsed": false
   },
   "outputs": [],
   "source": [
    "d = {'simple_key':'hello'}\n",
    "#scrivi il codice per stampare 'hello'\n",
    "print "
   ]
  },
  {
   "cell_type": "code",
   "execution_count": null,
   "metadata": {
    "collapsed": false
   },
   "outputs": [],
   "source": [
    "d = {'k1':{'k2':'hello'}}\n",
    "\n",
    "#scrivi il codice per stampare 'hello'\n",
    "print "
   ]
  },
  {
   "cell_type": "code",
   "execution_count": null,
   "metadata": {
    "collapsed": false
   },
   "outputs": [],
   "source": [
    "# le cose si fanno più difficili\n",
    "d = {'k1':[{'nest_key':['this is deep',['hello']]}]}\n",
    "\n",
    "#scrivi il codice per stampare 'hello'print "
   ]
  },
  {
   "cell_type": "code",
   "execution_count": null,
   "metadata": {
    "collapsed": false
   },
   "outputs": [],
   "source": [
    "# Questa è difficile e fa venire il nervoso\n",
    "d = {'k1':[1,2,{'k2':['this is tricky',{'toughie':[1,2,['hello']]}]}]}\n",
    "\n",
    "#scrivi il codice per stampare 'hello'\n",
    "print d['k1'][2]['k2'][1]['toughie'][2][0]"
   ]
  },
  {
   "cell_type": "markdown",
   "metadata": {},
   "source": [
    "**domanda:** si può ordinare un dizionario? Perché?\n",
    "\n",
    "**Risposta**:"
   ]
  },
  {
   "cell_type": "markdown",
   "metadata": {},
   "source": [
    "## Tuple"
   ]
  },
  {
   "cell_type": "markdown",
   "metadata": {},
   "source": [
    "**Domanda:** Qual è la principale differenza fra liste e tuple?\n"
   ]
  },
  {
   "cell_type": "markdown",
   "metadata": {},
   "source": [
    "**Risposta:**"
   ]
  },
  {
   "cell_type": "code",
   "execution_count": null,
   "metadata": {
    "collapsed": true
   },
   "outputs": [],
   "source": [
    "# Crea una tupla t\n",
    "\n",
    "t = "
   ]
  },
  {
   "cell_type": "markdown",
   "metadata": {},
   "source": [
    "## Set"
   ]
  },
  {
   "cell_type": "markdown",
   "metadata": {},
   "source": [
    "**Domanda:** Cosa rende il set diverso dalle altre strutture dati?"
   ]
  },
  {
   "cell_type": "markdown",
   "metadata": {},
   "source": [
    "**Risposta:**"
   ]
  },
  {
   "cell_type": "markdown",
   "metadata": {},
   "source": [
    "Usa un set per trovare gli elementi unici nella lista `l`"
   ]
  },
  {
   "cell_type": "code",
   "execution_count": null,
   "metadata": {
    "collapsed": false
   },
   "outputs": [],
   "source": [
    "l = [1,2,2,33,4,4,11,22,3,3,2]\n",
    "\n"
   ]
  },
  {
   "cell_type": "markdown",
   "metadata": {},
   "source": [
    "## Booleani"
   ]
  },
  {
   "cell_type": "markdown",
   "metadata": {},
   "source": [
    "Prima di tutto, una panoramica degli operatori di confronto:\n",
    "\n",
    "Operatore | Nome | Descrizione | Esempio |\n",
    "--|--|--|--\n",
    "`==` | uguale | vero se i valori dei due operandi sono uguali | `(3 == 2)` è falso\n",
    "`!=` | diverso | vero se i valori dei due operandi **non** sono uguali | `(3 != 2)` è vero\n",
    "`<>` | diverso | vero se i valori dei due operandi **non** sono uguali | `(3 <> 2)` è vero\n",
    "`>`  | maggiore | vero se il primo operatore è strettamente maggiore del secondo | `(3 > 2)` è vero\n",
    "`<`  | minore | vero se il primo operatore è strettamente minore del secondo | `(2 < 3)` è vero \n",
    "`>=` | maggiore o uguale | vero se il primo operatore è maggiore o uguale al secondo | `(2 >= 2)` è vero\n",
    "`<=` | minore o uguale | vero se il primo operatore è minore o uguale al secondo | `(2 <= 2)` è vero"
   ]
  },
  {
   "cell_type": "code",
   "execution_count": 18,
   "metadata": {
    "collapsed": false
   },
   "outputs": [
    {
     "data": {
      "text/plain": [
       "False"
      ]
     },
     "execution_count": 18,
     "metadata": {},
     "output_type": "execute_result"
    }
   ],
   "source": [
    "# Rispondi prima di eseguire questa cella\n",
    "2 > 3"
   ]
  },
  {
   "cell_type": "code",
   "execution_count": null,
   "metadata": {
    "collapsed": false
   },
   "outputs": [],
   "source": [
    "# Rispondi prima di eseguire questa cella\n",
    "3 <= 2"
   ]
  },
  {
   "cell_type": "code",
   "execution_count": null,
   "metadata": {
    "collapsed": false
   },
   "outputs": [],
   "source": [
    "# Rispondi prima di eseguire questa cella\n",
    "3 == 2.0"
   ]
  },
  {
   "cell_type": "code",
   "execution_count": null,
   "metadata": {
    "collapsed": false
   },
   "outputs": [],
   "source": [
    "# Rispondi prima di eseguire questa cella\n",
    "3.0 == 3"
   ]
  },
  {
   "cell_type": "code",
   "execution_count": null,
   "metadata": {
    "collapsed": false
   },
   "outputs": [],
   "source": [
    "# Rispondi prima di eseguire questa cella\n",
    "4**0.5 != 2"
   ]
  },
  {
   "cell_type": "markdown",
   "metadata": {},
   "source": [
    "**Domanda finale:** Qual è il risultato booleano della cella qui sotto?"
   ]
  },
  {
   "cell_type": "code",
   "execution_count": 21,
   "metadata": {
    "collapsed": false
   },
   "outputs": [
    {
     "data": {
      "text/plain": [
       "False"
      ]
     },
     "execution_count": 21,
     "metadata": {},
     "output_type": "execute_result"
    }
   ],
   "source": [
    "# due liste innestate\n",
    "l_uno = [1,2,[3,4]]\n",
    "l_due = [1,2,{'k1':4}]\n",
    "\n",
    "#Dà vero o falso? \n",
    "l_uno[2][0] >= l_due[2]['k1']"
   ]
  },
  {
   "cell_type": "markdown",
   "metadata": {},
   "source": [
    "## fine!"
   ]
  }
 ],
 "metadata": {
  "kernelspec": {
   "display_name": "Python 2",
   "language": "python",
   "name": "python2"
  },
  "language_info": {
   "codemirror_mode": {
    "name": "ipython",
    "version": 2
   },
   "file_extension": ".py",
   "mimetype": "text/x-python",
   "name": "python",
   "nbconvert_exporter": "python",
   "pygments_lexer": "ipython2",
   "version": "2.7.11"
  }
 },
 "nbformat": 4,
 "nbformat_minor": 0
}
