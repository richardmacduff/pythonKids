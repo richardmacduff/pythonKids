{
 "cells": [
  {
   "cell_type": "markdown",
   "metadata": {},
   "source": [
    "# Chatbot\n",
    "\n",
    "**Cosa è un chatbot?**\n",
    "\n",
    "Un programma (bot deriva da robot) che risponde a frasi in linguaggio *naturale*.\n",
    "\n",
    "Il problema è: *come* lo fa? Per scoprirlo dobbiamo provare.\n"
   ]
  },
  {
   "cell_type": "markdown",
   "metadata": {},
   "source": [
    "In python alcuni semplici \"scheletri\" di chatbot sono presenti nella libreria `nltk`.\n",
    "\n",
    "In particolare, la famosissima Eliza. Importiamola."
   ]
  },
  {
   "cell_type": "code",
   "execution_count": 1,
   "metadata": {
    "collapsed": true
   },
   "outputs": [],
   "source": [
    "#importiamo eliza\n",
    "from nltk.chat.eliza import eliza_chatbot as eliza"
   ]
  },
  {
   "cell_type": "markdown",
   "metadata": {},
   "source": [
    "il metodo che ci interessa si chiama `respond(string)`. Proviamo a vedere:"
   ]
  },
  {
   "cell_type": "code",
   "execution_count": 3,
   "metadata": {
    "collapsed": false
   },
   "outputs": [
    {
     "data": {
      "text/plain": [
       "'Can you elaborate on that?'"
      ]
     },
     "execution_count": 3,
     "metadata": {},
     "output_type": "execute_result"
    }
   ],
   "source": [
    "eliza.respond(\"hello\")\n",
    "\n",
    "eliza.respond(\"Not feeling well today\")"
   ]
  },
  {
   "cell_type": "code",
   "execution_count": null,
   "metadata": {
    "collapsed": false
   },
   "outputs": [
    {
     "name": "stdout",
     "output_type": "stream",
     "text": [
      "eliza> die!\n",
      "die!\n"
     ]
    }
   ],
   "source": [
    "while True:\n",
    "    question = raw_input(\"eliza> \")\n",
    "    if (question == \"bye\"):\n",
    "        break\n",
    "    else:\n",
    "        print question\n",
    "        eliza.respond(question)"
   ]
  },
  {
   "cell_type": "markdown",
   "metadata": {},
   "source": [
    "## Esercizio\n",
    "\n",
    "\"Parlate\" con Eliza. Poi dite in quale modo pensate che funzioni."
   ]
  },
  {
   "cell_type": "markdown",
   "metadata": {},
   "source": [
    "## Iesha e gli altri\n",
    "\n",
    "Esistono altri bot: Iesha, Rude, SunTsu e Zen. Importiamo anche loro."
   ]
  },
  {
   "cell_type": "code",
   "execution_count": null,
   "metadata": {
    "collapsed": true
   },
   "outputs": [],
   "source": [
    "from nltk.chat.iesha import iesha_chatbot as iesha\n",
    "from nltk.chat.rude import rude_chatbot as rude\n",
    "from nltk.chat.suntsu import suntsu_chatbot as suntsu\n",
    "from nltk.chat.zen import zen_chatbot as zen"
   ]
  },
  {
   "cell_type": "code",
   "execution_count": null,
   "metadata": {
    "collapsed": false
   },
   "outputs": [],
   "source": [
    "iesha.respond(\"U R COOL!!!\")"
   ]
  },
  {
   "cell_type": "code",
   "execution_count": null,
   "metadata": {
    "collapsed": false
   },
   "outputs": [],
   "source": [
    "zen.respond(\"What is knowledge?\")"
   ]
  }
 ],
 "metadata": {
  "kernelspec": {
   "display_name": "Python 2",
   "language": "python",
   "name": "python2"
  },
  "language_info": {
   "codemirror_mode": {
    "name": "ipython",
    "version": 2
   },
   "file_extension": ".py",
   "mimetype": "text/x-python",
   "name": "python",
   "nbconvert_exporter": "python",
   "pygments_lexer": "ipython2",
   "version": "2.7.11"
  }
 },
 "nbformat": 4,
 "nbformat_minor": 0
}
