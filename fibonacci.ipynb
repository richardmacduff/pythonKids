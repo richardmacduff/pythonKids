{
 "cells": [
  {
   "cell_type": "markdown",
   "metadata": {},
   "source": [
    "# Funzioni in Python"
   ]
  },
  {
   "cell_type": "markdown",
   "metadata": {},
   "source": [
    "In Python, una *funzione* va intesa in senso matematico:\n",
    "- accetta uno o più parametri di input\n",
    "- ritorna un valore di output\n",
    "\n",
    "input e output possono essere un qualunque oggetto Python."
   ]
  },
  {
   "cell_type": "markdown",
   "metadata": {},
   "source": [
    "La prima funzione è un vero classico:\n",
    "\n",
    "```def hello(stringa):\n",
    "    print('hello' + stringa)\n",
    "```"
   ]
  },
  {
   "cell_type": "markdown",
   "metadata": {},
   "source": [
    "vediamo come funziona riga per riga:"
   ]
  },
  {
   "cell_type": "code",
   "execution_count": 2,
   "metadata": {
    "collapsed": true
   },
   "outputs": [],
   "source": [
    "#per prima cosa la definizione della funzione\n",
    "#si fa scrivendo 'def' seguito dal nome della funzione e dalla lista dei parametri fra parentesi tonde\n",
    "# la riga di definizione va terminata con un duepunti che indica l'inizio del corpo della funzione;\n",
    "# il corpo della funzione dovrà essere indentato di 4 spazi rispetto alla funzione\n",
    "def hello(stringa):\n",
    "    #qui inizia il corpo dela funzione\n",
    "    #che consiste di un solo comando\n",
    "    print ('hello ' + stringa)\n",
    "    "
   ]
  },
  {
   "cell_type": "markdown",
   "metadata": {},
   "source": [
    "e il valore di ritorno? Se non è esplicitato con lo statement `return` il valore di ritorno è quello dell'ultimo comando eseguito, nel nostro caso `print` (che non a caso è una funzione)"
   ]
  },
  {
   "cell_type": "code",
   "execution_count": 3,
   "metadata": {},
   "outputs": [
    {
     "name": "stdout",
     "output_type": "stream",
     "text": [
      "hello Walter\n"
     ]
    }
   ],
   "source": [
    "#adesso possiamo chiamare la funzione passando un parametro\n",
    "hello(\"Walter\")"
   ]
  },
  {
   "cell_type": "markdown",
   "metadata": {},
   "source": [
    "## Definiamo una funzione"
   ]
  },
  {
   "cell_type": "markdown",
   "metadata": {},
   "source": [
    "Partiamo da una vera funzione semplice, come il fattoriale:\n",
    "\n",
    "$\\forall n \\in \\mathbf{N} : n! := \\prod_{k=1}^n k = 1\\cdot2\\cdot3\\cdots(n-1)\\cdot n$"
   ]
  },
  {
   "cell_type": "markdown",
   "metadata": {},
   "source": [
    "Il fattoriale di $n$ è il prodotto di tutti gli interi da $1$ a $n$, mentre il fattoriale di $0$ è per definizione pari a $1$. "
   ]
  },
  {
   "cell_type": "code",
   "execution_count": 4,
   "metadata": {
    "collapsed": true
   },
   "outputs": [],
   "source": [
    "def fatt(n):\n",
    "    if (n == 0):\n",
    "        return 1\n",
    "    else:\n",
    "        res = 1\n",
    "        for i in range(n):\n",
    "            res = (i + 1) * res\n",
    "        return res"
   ]
  },
  {
   "cell_type": "code",
   "execution_count": 5,
   "metadata": {},
   "outputs": [
    {
     "data": {
      "text/plain": [
       "93326215443944152681699238856266700490715968264381621468592963895217599993229915608941463976156518286253697920827223758251185210916864000000000000000000000000"
      ]
     },
     "execution_count": 5,
     "metadata": {},
     "output_type": "execute_result"
    }
   ],
   "source": [
    "fatt(100)"
   ]
  },
  {
   "cell_type": "markdown",
   "metadata": {},
   "source": [
    "La funzione fattoriale può anche essere definita più (o forse meno) intuitivamente in modo ricorsivo:\n",
    "\n",
    "$\\forall n \\in \\mathbf{N} : n! := \\begin{cases}1 &\\mbox{se } n=0;\n",
    "\\\\\n",
    "n \\cdot (n-1)! &\\mbox{se } n\\ge1~.\\end{cases}\n",
    "$\n",
    "\n",
    "In questo caso, la funzione è più semplice da scrivere perché, magicamente, non ci sono cicli:"
   ]
  },
  {
   "cell_type": "code",
   "execution_count": 6,
   "metadata": {
    "collapsed": true
   },
   "outputs": [],
   "source": [
    "def fatt2(n):\n",
    "    if (n == 0):\n",
    "        return 1\n",
    "    else:\n",
    "        return n * fatt2(n-1)"
   ]
  },
  {
   "cell_type": "code",
   "execution_count": 7,
   "metadata": {},
   "outputs": [
    {
     "data": {
      "text/plain": [
       "93326215443944152681699238856266700490715968264381621468592963895217599993229915608941463976156518286253697920827223758251185210916864000000000000000000000000"
      ]
     },
     "execution_count": 7,
     "metadata": {},
     "output_type": "execute_result"
    }
   ],
   "source": [
    "fatt2(100)"
   ]
  },
  {
   "cell_type": "markdown",
   "metadata": {},
   "source": [
    "La cosa interessante è vedere se una implementazione è *migliore* dell'altra in termini di velocità di esecuzione:"
   ]
  },
  {
   "cell_type": "code",
   "execution_count": 71,
   "metadata": {},
   "outputs": [
    {
     "name": "stdout",
     "output_type": "stream",
     "text": [
      "1000 loops, best of 3: 185 µs per loop\n"
     ]
    }
   ],
   "source": [
    "%timeit fatt(500)"
   ]
  },
  {
   "cell_type": "code",
   "execution_count": 72,
   "metadata": {},
   "outputs": [
    {
     "name": "stdout",
     "output_type": "stream",
     "text": [
      "1000 loops, best of 3: 276 µs per loop\n"
     ]
    }
   ],
   "source": [
    "%timeit fatt2(500)"
   ]
  },
  {
   "cell_type": "markdown",
   "metadata": {},
   "source": [
    "### La serie di Fibonacci"
   ]
  },
  {
   "cell_type": "markdown",
   "metadata": {},
   "source": [
    "La **serie di Fibonacci** definisce un insieme di numeri in questo modo:\n",
    "\n",
    "$\\forall n \\in \\mathbf{N} : F_{n} = \n",
    "\\begin{cases}\n",
    "F_{0} = 1\\\\\n",
    "F_{1} = 1\\\\\n",
    "F_{n} = F_{n-1} + F_{n-2}\n",
    "\\end{cases}$"
   ]
  },
  {
   "cell_type": "markdown",
   "metadata": {},
   "source": [
    "Qui la cosa più semplice è creare una funzione che prenda come parametro un intero positivo $n$ e dia come valore di ritorno la *lista* dei primi $n$ numeri di Fibonacci."
   ]
  },
  {
   "cell_type": "code",
   "execution_count": 73,
   "metadata": {
    "collapsed": true
   },
   "outputs": [],
   "source": [
    "#ritorna una lista dei primi n numeri di Fibonacci\n",
    "def generate_fib(n):\n",
    "    for i in range(n+1):\n",
    "        if (i == 0):\n",
    "            fiblist = [1]\n",
    "        elif (i == 1):\n",
    "            fiblist = [1,1]\n",
    "        else:\n",
    "            fiblist.append( fiblist[i-1] + fiblist[i-2] )\n",
    "    return fiblist"
   ]
  },
  {
   "cell_type": "markdown",
   "metadata": {
    "collapsed": true
   },
   "source": [
    "proviamo a vedere cosa succede"
   ]
  },
  {
   "cell_type": "code",
   "execution_count": 74,
   "metadata": {},
   "outputs": [
    {
     "name": "stdout",
     "output_type": "stream",
     "text": [
      "i primi 40 numeri di Fibonacci sono: [1, 1, 2, 3, 5, 8, 13, 21, 34, 55, 89, 144, 233, 377, 610, 987, 1597, 2584, 4181, 6765, 10946, 17711, 28657, 46368, 75025, 121393, 196418, 317811, 514229, 832040, 1346269, 2178309, 3524578, 5702887, 9227465, 14930352, 24157817, 39088169, 63245986, 102334155, 165580141]\n"
     ]
    }
   ],
   "source": [
    "print \"i primi 40 numeri di Fibonacci sono:\", generate_fib(40)"
   ]
  },
  {
   "cell_type": "code",
   "execution_count": 75,
   "metadata": {},
   "outputs": [
    {
     "name": "stdout",
     "output_type": "stream",
     "text": [
      "*\n",
      "*\n",
      "**\n",
      "***\n",
      "*****\n",
      "********\n",
      "*************\n",
      "*********************\n",
      "**********************************\n",
      "*******************************************************\n",
      "*****************************************************************************************\n"
     ]
    }
   ],
   "source": [
    "for i in generate_fib(10):\n",
    "    print \"*\"*i"
   ]
  }
 ],
 "metadata": {
  "kernelspec": {
   "display_name": "Python 3",
   "language": "python",
   "name": "python3"
  },
  "language_info": {
   "codemirror_mode": {
    "name": "ipython",
    "version": 3
   },
   "file_extension": ".py",
   "mimetype": "text/x-python",
   "name": "python",
   "nbconvert_exporter": "python",
   "pygments_lexer": "ipython3",
   "version": "3.5.1"
  }
 },
 "nbformat": 4,
 "nbformat_minor": 1
}
