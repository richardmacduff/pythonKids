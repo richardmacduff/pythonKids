{
 "cells": [
  {
   "cell_type": "markdown",
   "metadata": {},
   "source": [
    "# Creare una funzione"
   ]
  },
  {
   "cell_type": "markdown",
   "metadata": {},
   "source": [
    "Proviamo a definire una funzione che simuli il lancio di un dado con un numero arbitrario di facce.\n",
    "\n",
    "Il numero di facce viene passato alla funzione come parametro.\n",
    "\n",
    "**Problema**: come generiamo un numero casuale? Nessuna difficoltà, esistono librerie sofisticatissime che fanno proprio quello. Quindi quello che faremo è in effetti una funzione il cui unico scopo è *chiamare una funzione di libreria*.\n",
    "\n",
    "OK, ma **cosa** è una libreria?\n",
    "\n",
    ">Una libreria è una raccolta di funzioni legate a uno specifico contesto. Per esempio, librerie di grafica, di funzioni matematiche o di trattamento del suono. Una o più funzioni di una libreira devono essere **importate** per poter essere usate.\n",
    "\n",
    "La libreria che useremo si chiama `random` (gli informatici non sprecano la fantasia dove non serve). Siccome non ci serve tutta la libreria, importeremo solo una funzione, `randint` che genera un intero casuale entro un intervallo specificato. La funzione ha questa sintassi:\n",
    "\n",
    "```\n",
    "randint(inizioIntervallo, fineIntervallo)\n",
    "```\n",
    "\n",
    "\n",
    "\n"
   ]
  },
  {
   "cell_type": "code",
   "execution_count": 6,
   "metadata": {
    "collapsed": true
   },
   "outputs": [],
   "source": [
    "#primo passo: limitiamoci a simulare il lancio di un dado a sei facce\n",
    "\n",
    "#importiamo la funzione che ci serve\n",
    "from random import randint\n",
    "\n",
    "def dado6():\n",
    "    #definiamo una variabile locale: esisterà solo per il tempo che la funzione lavora\n",
    "    n = randint(1, 6)\n",
    "    return n"
   ]
  },
  {
   "cell_type": "code",
   "execution_count": 7,
   "metadata": {
    "collapsed": false
   },
   "outputs": [
    {
     "name": "stdout",
     "output_type": "stream",
     "text": [
      "4\n"
     ]
    }
   ],
   "source": [
    "print( dado6() )"
   ]
  },
  {
   "cell_type": "markdown",
   "metadata": {},
   "source": [
    "## Parametrizzare una funzione"
   ]
  },
  {
   "cell_type": "markdown",
   "metadata": {},
   "source": [
    "Adesso complichiamo un po' le cose. **Parametrizziamo** la funzione e miglioriamo un po' l'output."
   ]
  },
  {
   "cell_type": "code",
   "execution_count": 3,
   "metadata": {
    "collapsed": true
   },
   "outputs": [],
   "source": [
    "from random import randint\n",
    "\n",
    "#simula il lancio di un dado con un numero arbitrario di facce\n",
    "def dado(max):\n",
    "    n = randint(1,max)\n",
    "    return n\n",
    "\n",
    "#creo una stringa con il valore del dado\n",
    "s = \"hai fatto \" + str(dado(20))"
   ]
  },
  {
   "cell_type": "code",
   "execution_count": 4,
   "metadata": {
    "collapsed": false
   },
   "outputs": [
    {
     "name": "stdout",
     "output_type": "stream",
     "text": [
      "hai fatto 3\n"
     ]
    }
   ],
   "source": [
    "#proviamo a vedere\n",
    "print(s)"
   ]
  }
 ],
 "metadata": {
  "kernelspec": {
   "display_name": "Python 2",
   "language": "python",
   "name": "python2"
  },
  "language_info": {
   "codemirror_mode": {
    "name": "ipython",
    "version": 2
   },
   "file_extension": ".py",
   "mimetype": "text/x-python",
   "name": "python",
   "nbconvert_exporter": "python",
   "pygments_lexer": "ipython2",
   "version": "2.7.11"
  }
 },
 "nbformat": 4,
 "nbformat_minor": 0
}
