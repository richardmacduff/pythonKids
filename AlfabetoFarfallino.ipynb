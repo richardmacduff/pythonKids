{
 "cells": [
  {
   "cell_type": "markdown",
   "metadata": {},
   "source": [
    "# Alfabeto Farfallino\n",
    "\n",
    " scrivi in **markdown**\n",
    " \n",
    " $x^2_3$"
   ]
  },
  {
   "cell_type": "code",
   "execution_count": 3,
   "metadata": {
    "collapsed": true
   },
   "outputs": [],
   "source": [
    "valore = \"GigiRiva\""
   ]
  },
  {
   "cell_type": "code",
   "execution_count": 6,
   "metadata": {
    "collapsed": false
   },
   "outputs": [
    {
     "name": "stdout",
     "output_type": "stream",
     "text": [
      "GigiRiva\n",
      "gigiriva\n"
     ]
    }
   ],
   "source": [
    "print(valore)\n",
    "print(valore.lower())"
   ]
  },
  {
   "cell_type": "markdown",
   "metadata": {
    "collapsed": false
   },
   "source": [
    "Realizzare una funzione che:\n",
    "\n",
    "1. legge una stringa dall'utente\n",
    "2. la modifica in alfabeto farfallino\n",
    "3. scrive \"La tua stringa diventa\" e la stringa modificata\n",
    "\n",
    "**Alfabeto farfallino**:\n",
    "a ogni *vocale* viene accodata la lettera **f** seguita dalla vocale stessa\n",
    "\n",
    "> ciao mamma --> ci**fi**a**fa**o**fo** ma**fa**mma**fa**\n",
    "\n",
    "> come va? --> co**fo**me**fe** va**fa**?"
   ]
  },
  {
   "cell_type": "code",
   "execution_count": 7,
   "metadata": {
    "collapsed": false
   },
   "outputs": [
    {
     "name": "stdout",
     "output_type": "stream",
     "text": [
      "dammi una stringa da tradurre: la vispa teresa alea fra l'erbetta\n",
      "mi hai dato da tradurre:  la vispa teresa alea fra l'erbetta\n",
      "la traduzione è:  lafa vifispafa teferefesafa afalefeafa frafa l'eferbefettafa\n"
     ]
    }
   ],
   "source": [
    "stringa = input(\"dammi una stringa da tradurre: \")\n",
    "stringa = stringa.lower()\n",
    "\n",
    "print(\"mi hai dato da tradurre: \", stringa)\n",
    "\n",
    "traduzione = \"\"\n",
    "farfalla = \"f\"\n",
    "\n",
    "while not farfalla in \"bcdfghjklmnpqrstvwxyz\":\n",
    "    farfalla = input(\"dammi una consonante: \") #questa è la stringa che verrà appesa a ciascuna vocale\n",
    "\n",
    "for carattere in stringa:\n",
    "    if carattere in \"aeiou\": #allora è una vocale\n",
    "        traduzione += carattere + farfalla + carattere\n",
    "    else:\n",
    "        traduzione += carattere\n",
    "\n",
    "#dopo che il ciclo è concluso\n",
    "print(\"la traduzione è: \", traduzione)\n",
    "        \n"
   ]
  }
 ],
 "metadata": {
  "kernelspec": {
   "display_name": "Python 3.5",
   "language": "python",
   "name": "python3.5"
  },
  "language_info": {
   "codemirror_mode": {
    "name": "ipython",
    "version": 3
   },
   "file_extension": ".py",
   "mimetype": "text/x-python",
   "name": "python",
   "nbconvert_exporter": "python",
   "pygments_lexer": "ipython3",
   "version": "3.5.2"
  }
 },
 "nbformat": 4,
 "nbformat_minor": 0
}
