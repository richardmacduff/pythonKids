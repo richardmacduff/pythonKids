{
 "cells": [
  {
   "cell_type": "markdown",
   "metadata": {},
   "source": [
    "\n",
    "# Stampa formattata\n",
    "Inquesta lezione copriremo i diversi modi di stampare in uno specifico formato.\n",
    "Mano a mano che sviluppi, potrà per esempio servirti un comando di stampa che prenda una variabile e produca una stampa formattata in un certo modo.\n",
    "\n",
    "L'esempio più semplice è questo:"
   ]
  },
  {
   "cell_type": "code",
   "execution_count": 2,
   "metadata": {
    "collapsed": false
   },
   "outputs": [
    {
     "name": "stdout",
     "output_type": "stream",
     "text": [
      "Questa è una stringa\n"
     ]
    }
   ],
   "source": [
    "print 'Questa è una stringa'"
   ]
  },
  {
   "cell_type": "markdown",
   "metadata": {},
   "source": [
    "## Stringhe\n",
    "Se in un comando di stampa vuoi includere una stringa usi %s\n"
   ]
  },
  {
   "cell_type": "code",
   "execution_count": 5,
   "metadata": {
    "collapsed": false
   },
   "outputs": [
    {
     "name": "stdout",
     "output_type": "stream",
     "text": [
      "Inserisco una nuova stringa in questo punto: ECCO LA STRINGA\n"
     ]
    }
   ],
   "source": [
    "st = 'ECCO LA STRINGA'\n",
    "print 'Inserisco una nuova stringa in questo punto: %s' %(st)"
   ]
  },
  {
   "cell_type": "markdown",
   "metadata": {},
   "source": [
    "## Numeri a virgola mobile\n",
    "\n",
    "Per stampare un numero in virgola mobile (un modo tecnico per dire che non sono interi) si usa questo formato:\n",
    "``%X.Yf `` dove: \n",
    "- X è il numero minimo di cifre della parte intera il numero (se non ce ne sono abbastanza vengono compensate con spazi) \n",
    "- Y è il numero di cifre che compaiono dopo la virgola\n",
    "\n",
    "Qualche esempio:"
   ]
  },
  {
   "cell_type": "code",
   "execution_count": 6,
   "metadata": {
    "collapsed": false
   },
   "outputs": [
    {
     "name": "stdout",
     "output_type": "stream",
     "text": [
      "Numeri in virgola mobile: 13.14\n"
     ]
    }
   ],
   "source": [
    "print 'Numeri in virgola mobile: %1.2f' %(13.144)"
   ]
  },
  {
   "cell_type": "code",
   "execution_count": 7,
   "metadata": {
    "collapsed": false
   },
   "outputs": [
    {
     "name": "stdout",
     "output_type": "stream",
     "text": [
      "Numeri in virgola mobile: 13\n"
     ]
    }
   ],
   "source": [
    "print 'Numeri in virgola mobile: %1.0f' %(13.144)"
   ]
  },
  {
   "cell_type": "code",
   "execution_count": 9,
   "metadata": {
    "collapsed": false
   },
   "outputs": [
    {
     "name": "stdout",
     "output_type": "stream",
     "text": [
      "Numeri in virgola mobile: 13.14400\n"
     ]
    }
   ],
   "source": [
    "print 'Numeri in virgola mobile: %1.5f' %(13.144)"
   ]
  },
  {
   "cell_type": "code",
   "execution_count": 10,
   "metadata": {
    "collapsed": false
   },
   "outputs": [
    {
     "name": "stdout",
     "output_type": "stream",
     "text": [
      "Numeri in virgola mobile:      13.14\n"
     ]
    }
   ],
   "source": [
    "print 'Numeri in virgola mobile: %10.2f' %(13.144)"
   ]
  },
  {
   "cell_type": "code",
   "execution_count": 11,
   "metadata": {
    "collapsed": false
   },
   "outputs": [
    {
     "name": "stdout",
     "output_type": "stream",
     "text": [
      "Numeri in virgola mobile:                     13.14\n"
     ]
    }
   ],
   "source": [
    "print 'Numeri in virgola mobile: %25.2f' %(13.144)"
   ]
  },
  {
   "cell_type": "markdown",
   "metadata": {},
   "source": [
    "## Metodi per la conversione fra formati\n",
    "\n",
    "Occorre notare che i metodi %s e %r convertono di fatto un oggetto Python in una stringa usando due funzioni diverse: ``str()`` e ``repr()``\n",
    "\n",
    "Scopriremo cosa fanno nei dettagli più avanti, ma per il momento ci basta sapere che possiamo passare a questi due metodi quasi ogni oggetto Python e loro funzionano:\n"
   ]
  },
  {
   "cell_type": "code",
   "execution_count": 12,
   "metadata": {
    "collapsed": false
   },
   "outputs": [
    {
     "name": "stdout",
     "output_type": "stream",
     "text": [
      "Questo è un numero: 123.1. E questa è una stringa: ciao\n"
     ]
    }
   ],
   "source": [
    "print 'Questo è un numero: %s. E questa è una stringa: %s' %(123.1,'ciao')"
   ]
  },
  {
   "cell_type": "code",
   "execution_count": 15,
   "metadata": {
    "collapsed": false
   },
   "outputs": [
    {
     "name": "stdout",
     "output_type": "stream",
     "text": [
      "Pure questo è un numero: 123.1. Pure questa è una stringa: 'ciao'\n"
     ]
    }
   ],
   "source": [
    "print 'Pure questo è un numero: %r. Pure questa è una stringa: %r' %(123.1,'ciao')"
   ]
  },
  {
   "cell_type": "markdown",
   "metadata": {},
   "source": [
    "## Formattazioni multiple\n",
    "Puoi passare una tupla al simbolo di modulo per mettere formati diversi in un comando di stampa:"
   ]
  },
  {
   "cell_type": "code",
   "execution_count": 17,
   "metadata": {
    "collapsed": false
   },
   "outputs": [
    {
     "name": "stdout",
     "output_type": "stream",
     "text": [
      "Primo: hi!, Secondo: 3.14, Terzo: 22\n"
     ]
    }
   ],
   "source": [
    "#Stampa nell'ordine: una stringa, un numero con due decimali, una cifra composta di numerali\n",
    "print 'Primo: %s, Secondo: %1.2f, Terzo: %r' %('hi!',3.14,22)"
   ]
  },
  {
   "cell_type": "markdown",
   "metadata": {},
   "source": [
    "# Usare il metodo ``string .format()``\n",
    "Il modo migliiore per formattare quelloc che si vuole mettere in un comando di stampa è quello di usare il metodo ``.format()``:\n",
    "\n",
    "    'Metto una stringa qui {var1} e poi pure {var2}'.format(var1='qualcosa',var2=\"qualcos'altro\")\n",
    "    \n",
    "Vediamo degli esempi:"
   ]
  },
  {
   "cell_type": "code",
   "execution_count": 18,
   "metadata": {
    "collapsed": false
   },
   "outputs": [
    {
     "name": "stdout",
     "output_type": "stream",
     "text": [
      "Questa è una stringa con una inserzione\n"
     ]
    }
   ],
   "source": [
    "print 'Questa è una stringa con una {p}'.format(p='inserzione')"
   ]
  },
  {
   "cell_type": "code",
   "execution_count": 19,
   "metadata": {
    "collapsed": false
   },
   "outputs": [
    {
     "name": "stdout",
     "output_type": "stream",
     "text": [
      "Uno: Ciao!, due: Ciao!, tre: Ciao!\n"
     ]
    }
   ],
   "source": [
    "# Anche più volte:\n",
    "print 'Uno: {p}, due: {p}, tre: {p}'.format(p='Ciao!')"
   ]
  },
  {
   "cell_type": "code",
   "execution_count": 22,
   "metadata": {
    "collapsed": false
   },
   "outputs": [
    {
     "name": "stdout",
     "output_type": "stream",
     "text": [
      "Oggetto 1: 555, Oggetto 2: due, Oggetto 3: 12.3\n"
     ]
    }
   ],
   "source": [
    "# Anche oggetti diversi:\n",
    "print 'Oggetto 1: {a}, Oggetto 2: {b}, Oggetto 3: {c}'.format(a=555,b='due',c=12.3)"
   ]
  },
  {
   "cell_type": "markdown",
   "metadata": {},
   "source": [
    "E questi sono i fondamentali della formattazione. Ricorda che in Python 3 ``print()`` è una funzione, non un comando!"
   ]
  },
  {
   "cell_type": "markdown",
   "metadata": {},
   "source": [
    "## Prossima lezione: liste!"
   ]
  }
 ],
 "metadata": {
  "kernelspec": {
   "display_name": "Python 2",
   "language": "python",
   "name": "python2"
  },
  "language_info": {
   "codemirror_mode": {
    "name": "ipython",
    "version": 2
   },
   "file_extension": ".py",
   "mimetype": "text/x-python",
   "name": "python",
   "nbconvert_exporter": "python",
   "pygments_lexer": "ipython2",
   "version": "2.7.11"
  }
 },
 "nbformat": 4,
 "nbformat_minor": 0
}
