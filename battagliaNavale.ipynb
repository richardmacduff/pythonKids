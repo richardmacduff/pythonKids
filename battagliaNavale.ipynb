{
 "cells": [
  {
   "cell_type": "markdown",
   "metadata": {},
   "source": [
    "# Battaglia navale\n",
    "\n",
    "Primo tentativo: con una lista di liste"
   ]
  },
  {
   "cell_type": "markdown",
   "metadata": {},
   "source": [
    "Vogliamo scrivere un programma che giochi a battaglia navale.\n",
    "\n",
    "Per cominciare con cose semplici, saremo noi a giocare contro il programma ma non il contrario. Questo ci risparmia il dover realizzare una strategia di gioco.\n",
    "\n",
    "In pratica, il programma deve fare questo:\n",
    "\n",
    "1. INIZIALIZZAZIONE\n",
    "    0. creare due tavole di gioco 5x5\n",
    "        1. una tavola \"NAVI\" dove posiziona le sue navi (che noi non vediamo)\n",
    "        2. una tavola \"TIRI\" dove annota i notri tiri (che vediamo)\n",
    "    1. schermata di benvenuto e visualizzazione della tavola TIRI dove compaiono i nostri tiri (inizialmente vuota)\n",
    "    2. posiziona a caso 5 navi da 1 sulla tavola NAVI (che noi non vediamo mai)\n",
    "    3. porta il numero di navi rimaste da colpire a 5 e porta il numero di colpi sparati a 0\n",
    "2. CICLO fino a quando il numero di navi rimaste da colpire diventa 0\n",
    "    1. mostra la tavola con i nostri colpi\n",
    "    2. ci chiede la nostra mossa (ad es., C5)\n",
    "    3. aumenta di 1 il numero di colpi sparati\n",
    "    4. se il nostro colpo è andato a segno:\n",
    "        1. dice \"Affondato\"\n",
    "        2. segna la nave affondata sulla tavola visibile\n",
    "        3. diminuisce di 1 il numero di navi rimaste da colpire\n",
    "    5. altrimenti:\n",
    "        1. dice \"colpo a vuoto\"\n",
    "        2. segna il colpo a vuoto \n",
    "3. Dice \"hai vinto con \" il numero di colpi sparati"
   ]
  },
  {
   "cell_type": "markdown",
   "metadata": {},
   "source": [
    "## La struttura dati\n",
    "\n",
    "La struttura dati, come sappiamo, è il cuore di ogni programma perché influenza tutto il codice che dobbiamo scrivere.\n",
    "\n",
    "Poiché il gioco ruota attorno a una tavola di caselle (ovvero: una matrice o, se vogliamo,un piano cartesiano discreto e limitato) il problema principale è come rappresentare la tavola.\n",
    "\n",
    "La tavola dovrebbe essere una cosa così:\n",
    "\n",
    "```\n",
    "  | 1 | 2 | 3| 4 | 5 |\n",
    "-----------------------\n",
    "A |   |   |   |  |   |\n",
    "-----------------------\n",
    "B |   |   |   |  |   |\n",
    "-----------------------\n",
    "C |   |   |   |  |   |\n",
    "-----------------------\n",
    "D |   |   |   |  |   |\n",
    "-----------------------\n",
    "E |   |   |   |  |   |\n",
    "-----------------------\n",
    "```"
   ]
  },
  {
   "cell_type": "markdown",
   "metadata": {},
   "source": [
    "### primo metodo: una lista di liste"
   ]
  },
  {
   "cell_type": "code",
   "execution_count": 1,
   "metadata": {
    "collapsed": false
   },
   "outputs": [
    {
     "data": {
      "text/plain": [
       "[[0, 0, 0, 0, 0, 0, 0, 0, 0, 0],\n",
       " [0, 0, 0, 0, 0, 0, 0, 0, 0, 0],\n",
       " [0, 0, 0, 0, 0, 0, 0, 0, 0, 0],\n",
       " [0, 0, 0, 0, 0, 0, 0, 0, 0, 0],\n",
       " [0, 0, 0, 0, 0, 0, 0, 0, 0, 0],\n",
       " [0, 0, 0, 0, 0, 0, 0, 0, 0, 0],\n",
       " [0, 0, 0, 0, 0, 0, 0, 0, 0, 0],\n",
       " [0, 0, 0, 0, 0, 0, 0, 0, 0, 0],\n",
       " [0, 0, 0, 0, 0, 0, 0, 0, 0, 0],\n",
       " [0, 0, 0, 0, 0, 0, 0, 0, 0, 0]]"
      ]
     },
     "execution_count": 1,
     "metadata": {},
     "output_type": "execute_result"
    }
   ],
   "source": [
    "#ricordiamoci che per ripetere un valore in una lista\n",
    "#possiamo usare l'operatore *\n",
    "fila = [0] * 10\n",
    "\n",
    "#quindi per creare una lista di liste possiamo usare sia il *\n",
    "#che  una \"list comprehension\"\n",
    "matrice =[ [0]*10 for i in range(10)]\n",
    "\n",
    "matrice"
   ]
  },
  {
   "cell_type": "code",
   "execution_count": 2,
   "metadata": {
    "collapsed": false
   },
   "outputs": [
    {
     "data": {
      "text/plain": [
       "[[0, 0, 0, 0, 0, 0, 0, 0, 0, 0],\n",
       " [0, 0, 0, 0, 0, 0, 0, 0, 0, 0],\n",
       " [0, 0, 0, 6, 0, 0, 0, 0, 0, 0],\n",
       " [0, 0, 0, 0, 0, 0, 0, 0, 0, 0],\n",
       " [0, 0, 0, 0, 0, 0, 0, 0, 0, 0],\n",
       " [0, 0, 0, 0, 0, 0, 0, 0, 0, 0],\n",
       " [0, 0, 0, 0, 0, 0, 0, 0, 0, 0],\n",
       " [0, 0, 0, 0, 0, 0, 0, 0, 0, 0],\n",
       " [0, 0, 0, 0, 0, 0, 0, 0, 0, 0],\n",
       " [0, 0, 0, 0, 0, 0, 0, 0, 0, 0]]"
      ]
     },
     "execution_count": 2,
     "metadata": {},
     "output_type": "execute_result"
    }
   ],
   "source": [
    "#con una matrice fatta in questo modo, accedere alle singole caselle\n",
    "#è intuitivo.\n",
    "# prviamo a mettere 6 dentro la terza colonna della terza riga\n",
    "#per come abbiamo fatto la matrice:\n",
    "#il primo indice determina la RIGA\n",
    "#il secondo indice determina la COLONNA\n",
    "#ricordiamoci che il PRIMO elemento di una lista ha indice 0\n",
    "#quindi l'elemento 2 è il TERZO...\n",
    "\n",
    "matrice[2][3] = 6\n",
    "\n",
    "\n",
    "matrice"
   ]
  },
  {
   "cell_type": "markdown",
   "metadata": {},
   "source": [
    "### secondo metodo: un dizionario"
   ]
  },
  {
   "cell_type": "code",
   "execution_count": 3,
   "metadata": {
    "collapsed": false
   },
   "outputs": [
    {
     "data": {
      "text/plain": [
       "{'A': [0, 0, 0, 0, 0, 0, 0, 0, 0, 0],\n",
       " 'B': [0, 0, 0, 0, 0, 0, 0, 0, 0, 0],\n",
       " 'C': [0, 0, 0, 0, 0, 0, 0, 0, 0, 0],\n",
       " 'D': [0, 0, 0, 0, 0, 0, 0, 0, 0, 0],\n",
       " 'E': [0, 0, 0, 0, 0, 0, 0, 0, 0, 0],\n",
       " 'F': [0, 0, 0, 0, 0, 0, 0, 0, 0, 0],\n",
       " 'G': [0, 0, 0, 0, 0, 0, 0, 0, 0, 0],\n",
       " 'H': [0, 0, 0, 0, 0, 0, 0, 0, 0, 0],\n",
       " 'I': [0, 0, 0, 0, 0, 0, 0, 0, 0, 0],\n",
       " 'J': [0, 0, 0, 0, 0, 0, 0, 0, 0, 0]}"
      ]
     },
     "execution_count": 3,
     "metadata": {},
     "output_type": "execute_result"
    }
   ],
   "source": [
    "#altrimenti possiamo fare la stessa struttura come dizionario.\n",
    "#il vantaggio è di usar direttamente la lettera delle coordinate.\n",
    "\n",
    "#creiamo un dizionario vuoto, o l'assegnamento nel for dà errore\n",
    "matrice2 = {}\n",
    "\n",
    "for i in ['A','B','C','D','E','F','G','H','I','J']:\n",
    "    matrice2[i] = [0] * 10\n",
    "    \n",
    "matrice2"
   ]
  },
  {
   "cell_type": "code",
   "execution_count": 4,
   "metadata": {
    "collapsed": false
   },
   "outputs": [
    {
     "data": {
      "text/plain": [
       "{'A': [0, 0, 0, 0, 0, 0, 0, 0, 0, 0],\n",
       " 'B': [0, 0, 0, 0, 0, 0, 0, 0, 0, 0],\n",
       " 'C': [0, 0, '3', 0, 0, 0, 0, 0, 0, 0],\n",
       " 'D': [0, 0, 0, 0, 0, 0, 0, 0, 0, 0],\n",
       " 'E': [0, 0, 0, 0, 0, 0, 0, 0, 0, 0],\n",
       " 'F': [0, 0, 0, 0, 0, 0, 0, 0, 0, 0],\n",
       " 'G': [0, 0, 0, 0, 0, 0, 0, 0, 0, 0],\n",
       " 'H': [0, 0, 0, 0, 0, 0, 0, 0, 0, 0],\n",
       " 'I': [0, 0, 0, 0, 0, 0, 0, 0, 0, 0],\n",
       " 'J': [0, 0, 0, 0, 0, 0, 0, 0, 0, 0]}"
      ]
     },
     "execution_count": 4,
     "metadata": {},
     "output_type": "execute_result"
    }
   ],
   "source": [
    "matrice2['C'][2] = '3'\n",
    "matrice2"
   ]
  },
  {
   "cell_type": "markdown",
   "metadata": {},
   "source": [
    "e ora avanti, a programmare!"
   ]
  }
 ],
 "metadata": {
  "kernelspec": {
   "display_name": "Python 3",
   "language": "python",
   "name": "python3"
  },
  "language_info": {
   "codemirror_mode": {
    "name": "ipython",
    "version": 3
   },
   "file_extension": ".py",
   "mimetype": "text/x-python",
   "name": "python",
   "nbconvert_exporter": "python",
   "pygments_lexer": "ipython3",
   "version": "3.5.1"
  }
 },
 "nbformat": 4,
 "nbformat_minor": 0
}
