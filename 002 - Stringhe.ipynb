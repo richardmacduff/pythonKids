{
 "cells": [
  {
   "cell_type": "markdown",
   "metadata": {},
   "source": [
    "# Stringhe"
   ]
  },
  {
   "cell_type": "markdown",
   "metadata": {},
   "source": [
    "Le stringhe servono per memorizzare informazioni testuali: nomi, sigle, interi blocchi di testo. In Python le stringhe sono una *sequenza*, il che significa che Python tratta ogni elemento della stringa come parte di una sequenza. La parola 'ciao', per Python, è una sequenza di lettere in un preciso ordine. Questo significa che noi possiamo usare la posizione (l'indice di posizione, in termini tecnici) per riferirci a una lettera specifica (per esempio la prima,  la terza o l'ultima).\n",
    "\n",
    "L'idea di sequenza è importante, in Python, e ci torneremo molte volte.\n",
    "\n",
    "Ecco cosa impareremo sulle stringhe:\n",
    "\n",
    "    1.) Creare stringhe\n",
    "    2.) Stampare stringhe\n",
    "    3.) Differenze fra stampare con Python 2 e Python 3\n",
    "    4.) Indici e slicing\n",
    "    5.) Proprietà delle stringhe\n",
    "    6.) Metodi delle stringhe\n",
    "    7.) Formattazione di stampa"
   ]
  },
  {
   "cell_type": "markdown",
   "metadata": {},
   "source": [
    "## Creare stringhe\n",
    "In Python per creare una stringa si usano gli apici singoli **oppure** gli apici doppi. Ad esempio:"
   ]
  },
  {
   "cell_type": "code",
   "execution_count": null,
   "metadata": {
    "collapsed": false
   },
   "outputs": [],
   "source": [
    "# Una sola parola\n",
    "'ciao'"
   ]
  },
  {
   "cell_type": "code",
   "execution_count": null,
   "metadata": {
    "collapsed": false
   },
   "outputs": [],
   "source": [
    "# Un'intera frase\n",
    "'Anche io sono una stringa'"
   ]
  },
  {
   "cell_type": "code",
   "execution_count": null,
   "metadata": {
    "collapsed": false
   },
   "outputs": [],
   "source": [
    "# Possiamo usare anche i doppi apici\n",
    "\"Sono una stringa costruita con i doppi apici\""
   ]
  },
  {
   "cell_type": "code",
   "execution_count": null,
   "metadata": {
    "collapsed": false
   },
   "outputs": [],
   "source": [
    "# Prima di pensare che usarli entrambi sia una stupidata, prova questo:\n",
    "' In questa stringa c'è l'apice singolo, ma dà errore'"
   ]
  },
  {
   "cell_type": "markdown",
   "metadata": {},
   "source": [
    "La ragione dell'errore sta nel fatto che il primo apostrofo chiude la stringa. Quando la stringa deve contenere un apice singolo (o doppio), allora si delimita la stringa con un apice doppio (o singolo)."
   ]
  },
  {
   "cell_type": "code",
   "execution_count": null,
   "metadata": {
    "collapsed": false
   },
   "outputs": [],
   "source": [
    "\"Qui non c'e' piu' confusione!\""
   ]
  },
  {
   "cell_type": "code",
   "execution_count": null,
   "metadata": {
    "collapsed": false
   },
   "outputs": [],
   "source": [
    "\"Nemmeno qui c'è più confusione\""
   ]
  },
  {
   "cell_type": "markdown",
   "metadata": {},
   "source": [
    "Da notare che se usiamo i caratteri accentati escono cose buffe, ma per ora limitiamoci."
   ]
  },
  {
   "cell_type": "markdown",
   "metadata": {},
   "source": [
    "## Stampare una stringa\n",
    "\n",
    "Se in una cella di un Jupyter notebook scrivo una stringa, quello la stampa in automatico. Nonostante questo, il modo corretto di visualizzare una stringa è quello di stamparla con l'apposita funzione."
   ]
  },
  {
   "cell_type": "code",
   "execution_count": null,
   "metadata": {
    "collapsed": false
   },
   "outputs": [],
   "source": [
    "# Possiamo limitarci a dichiarare una stringa\n",
    "'Hello World'"
   ]
  },
  {
   "cell_type": "code",
   "execution_count": null,
   "metadata": {
    "collapsed": false
   },
   "outputs": [],
   "source": [
    "# da notare che in questo modo possiamo anche scriverne più di una, ma vedremo sempre solo l'ultima...\n",
    "'Hello World 1'\n",
    "'Hello World 2'"
   ]
  },
  {
   "cell_type": "markdown",
   "metadata": {},
   "source": [
    "Possiamo invece usare un comando di stampa per stampare la stringa a video. Questo è il modo corretto di procedere."
   ]
  },
  {
   "cell_type": "code",
   "execution_count": null,
   "metadata": {
    "collapsed": false
   },
   "outputs": [],
   "source": [
    "print 'Hello World 1'\n",
    "print 'Hello World 2'\n",
    "print 'Possiamo usare\\n per andare a capo'\n",
    "print '\\n'\n",
    "print 'Visto?'"
   ]
  },
  {
   "cell_type": "markdown",
   "metadata": {
    "collapsed": true
   },
   "source": [
    "### <font color='red'>Allerta Python 3!</font>"
   ]
  },
  {
   "cell_type": "markdown",
   "metadata": {},
   "source": [
    "Attento ora: in Python 3, print è una funzione, non un comando, not a statement. Quindi si usa così:\n",
    "\n",
    "``print('Hello World')``\n",
    "\n",
    "Se vogliamo usare `print`come funzione mentre siamo in Python 2, possiamo importarla dal modulo ``__future__``. \n",
    "\n",
    "**Attenzione, però: dopo aver importato da ``__future__`` non potremo più usare ``print`` nella vecchia maniera. Perciò scegliamo una volta per tutte come vogliamo comportarci**"
   ]
  },
  {
   "cell_type": "code",
   "execution_count": null,
   "metadata": {
    "collapsed": false
   },
   "outputs": [],
   "source": [
    "# Per usare la funzione print() di Python 3 in Python 2\n",
    "from __future__ import print_function\n",
    "\n",
    "print('Hello World')"
   ]
  },
  {
   "cell_type": "markdown",
   "metadata": {},
   "source": [
    "## Lunghezza di una stringa"
   ]
  },
  {
   "cell_type": "markdown",
   "metadata": {},
   "source": [
    "Possiamo usare una funzione che si chiama len() per calcolare la lunghezza di una stringa."
   ]
  },
  {
   "cell_type": "code",
   "execution_count": null,
   "metadata": {
    "collapsed": false
   },
   "outputs": [],
   "source": [
    "len('Hello World')"
   ]
  },
  {
   "cell_type": "markdown",
   "metadata": {},
   "source": [
    "## Accedere alle parti di una stringa (indexing)\n",
    "Sappiamo che una stringa è una sequenza, il che significa che Python usa degli indici per accedere alle diverse parti della stringa stessa. Vediamo come funziona.\n",
    "\n",
    "In Python usiamo le parentesi quadre [] dopo un oggetto per indirizzare una sua parte. Ricordiamoci che il primo elemento di un indice è l'elemento 0, non l'1. Creiamo un nuovo oggetto stringa che si chiama s e vediamo qualche esempio pratico."
   ]
  },
  {
   "cell_type": "code",
   "execution_count": null,
   "metadata": {
    "collapsed": true
   },
   "outputs": [],
   "source": [
    "# Assegnare una stringa a s\n",
    "s = 'Hello World'"
   ]
  },
  {
   "cell_type": "code",
   "execution_count": null,
   "metadata": {
    "collapsed": false
   },
   "outputs": [],
   "source": [
    "#Proviamo a vedere, tanto per essere sicuri\n",
    "s"
   ]
  },
  {
   "cell_type": "code",
   "execution_count": null,
   "metadata": {
    "collapsed": false
   },
   "outputs": [],
   "source": [
    "# Stampiamo l'oggetto\n",
    "print(s) "
   ]
  },
  {
   "cell_type": "markdown",
   "metadata": {},
   "source": [
    "E ora iniziamo ad accedere ai componenti della stringa!"
   ]
  },
  {
   "cell_type": "code",
   "execution_count": null,
   "metadata": {
    "collapsed": false
   },
   "outputs": [],
   "source": [
    "# Prendiamo il primo elemento (in questo caso, la prima lettera)\n",
    "# Si legge \"esse di 0\"\n",
    "s[0]"
   ]
  },
  {
   "cell_type": "code",
   "execution_count": null,
   "metadata": {
    "collapsed": false
   },
   "outputs": [],
   "source": [
    "s[1]"
   ]
  },
  {
   "cell_type": "code",
   "execution_count": null,
   "metadata": {
    "collapsed": false
   },
   "outputs": [],
   "source": [
    "s[2]"
   ]
  },
  {
   "cell_type": "markdown",
   "metadata": {},
   "source": [
    "Ed ecco l'operatore ``:`` che si usa per fare lo *slicing*, ossia per prendere tutti i componenti fino a un certo indice, o da un certo indice in avanti, o da un indice a un altro. Così:"
   ]
  },
  {
   "cell_type": "code",
   "execution_count": null,
   "metadata": {
    "collapsed": false
   },
   "outputs": [],
   "source": [
    "# Prendiamo dall'elemento di indice 1 (il SECONDO) a tutta la lunghezza della stringa\n",
    "# (che è pari a len(s))\n",
    "s[1:]"
   ]
  },
  {
   "cell_type": "code",
   "execution_count": null,
   "metadata": {
    "collapsed": false
   },
   "outputs": [],
   "source": [
    "# Da notare che s non viene modificata da queste operazioni di lettura\n",
    "s"
   ]
  },
  {
   "cell_type": "code",
   "execution_count": null,
   "metadata": {
    "collapsed": false
   },
   "outputs": [],
   "source": [
    "# Prendiamo tutto fino al terzo elemento incluso. \n",
    "# La dicitura corretta sarebbe: prendiamo fino all'indice 3, non incluso\n",
    "s[:3]"
   ]
  },
  {
   "cell_type": "markdown",
   "metadata": {},
   "source": [
    "Notiamo lo slicing qui sopra. Stiamo dicendo a Python di prendere tutto dalla posizione 0 fino alla 3 ESCLUSA. Questo ricorre spesso in Python: indici intendono \"fino a, ma non incluso\" un certo valore."
   ]
  },
  {
   "cell_type": "code",
   "execution_count": null,
   "metadata": {
    "collapsed": false
   },
   "outputs": [],
   "source": [
    "# Tutto quanto\n",
    "s[:]"
   ]
  },
  {
   "cell_type": "markdown",
   "metadata": {},
   "source": [
    "Possiamo anche andare all'indietro, con indici negativi."
   ]
  },
  {
   "cell_type": "code",
   "execution_count": null,
   "metadata": {
    "collapsed": false
   },
   "outputs": [],
   "source": [
    "# L'ultima lettera (una posizione prima dello zero, ossia partiamo dalla fine\n",
    "# come fosse un anello)\n",
    "\n",
    "s[-1]"
   ]
  },
  {
   "cell_type": "code",
   "execution_count": null,
   "metadata": {
    "collapsed": false
   },
   "outputs": [],
   "source": [
    "# Tutto TRANNE l'ultima lettera\n",
    "s[:-1]"
   ]
  },
  {
   "cell_type": "markdown",
   "metadata": {
    "collapsed": false
   },
   "source": [
    "Possiamo usare indici e slice assieme per prendere i componenti di una stringa con \"passi\" di una data lunghezza (il default è 1).Ad esempio possiamo usare due duepunti in fila e un numero N per indicare che vogliamo ogni N-esimo elemento. \n",
    "For example:"
   ]
  },
  {
   "cell_type": "code",
   "execution_count": null,
   "metadata": {
    "collapsed": false
   },
   "outputs": [],
   "source": [
    "# Prendiamo ogni 1 elementi, per tutta la lunghezza\n",
    "s[::1]\n"
   ]
  },
  {
   "cell_type": "code",
   "execution_count": null,
   "metadata": {
    "collapsed": false
   },
   "outputs": [],
   "source": [
    "# Prendiamo ogni 2 elementi, per tutta la lunghezza\n",
    "s[::2]"
   ]
  },
  {
   "cell_type": "code",
   "execution_count": null,
   "metadata": {
    "collapsed": false
   },
   "outputs": [],
   "source": [
    "# Possiamo anche usare questo metodo per scrivere una stringa al contrario\n",
    "s[::-1]"
   ]
  },
  {
   "cell_type": "markdown",
   "metadata": {
    "collapsed": true
   },
   "source": [
    "## Proprietà delle stringhe\n",
    "È importante notare che lestringhe godono di una proprietà nota come *immutabilità*. Significa che dopo che una stringa è stata creata, i suoi elementi possono essere letti, ma non più scritti. Per esempio:"
   ]
  },
  {
   "cell_type": "code",
   "execution_count": null,
   "metadata": {
    "collapsed": false
   },
   "outputs": [],
   "source": [
    "s"
   ]
  },
  {
   "cell_type": "code",
   "execution_count": null,
   "metadata": {
    "collapsed": false
   },
   "outputs": [],
   "source": [
    "# Proviamo a cambiare il valore di una parte della stringa\n",
    "s[0] = 'x'"
   ]
  },
  {
   "cell_type": "markdown",
   "metadata": {},
   "source": [
    "Nota che il messaggio di errore ti avvisadi quello che non puoi fare, ossia assegnare qualcosa a una parte della stringa.\n",
    "\n",
    "Però le stringhe possiamo concatenarle...."
   ]
  },
  {
   "cell_type": "code",
   "execution_count": null,
   "metadata": {
    "collapsed": false
   },
   "outputs": [],
   "source": [
    "# Assegnare un nuovo valore all'INTERA stringa è possibile\n",
    "s = s + ' concatenami!'"
   ]
  },
  {
   "cell_type": "code",
   "execution_count": null,
   "metadata": {
    "collapsed": false
   },
   "outputs": [],
   "source": [
    "print(s)"
   ]
  },
  {
   "cell_type": "code",
   "execution_count": null,
   "metadata": {
    "collapsed": false
   },
   "outputs": [],
   "source": [
    "s"
   ]
  },
  {
   "cell_type": "markdown",
   "metadata": {},
   "source": [
    "Possiamo usare il simbolo di moltiplicazione per creare multipli (!) di una stringa."
   ]
  },
  {
   "cell_type": "code",
   "execution_count": null,
   "metadata": {
    "collapsed": true
   },
   "outputs": [],
   "source": [
    "lettera = 'z'"
   ]
  },
  {
   "cell_type": "code",
   "execution_count": null,
   "metadata": {
    "collapsed": false
   },
   "outputs": [],
   "source": [
    "lettera*10"
   ]
  },
  {
   "cell_type": "markdown",
   "metadata": {},
   "source": [
    "## Metodi nativi delle stringhe\n",
    "\n",
    "In Python gli oggetti di norma hanno dei metodi. Questi metodi sono funzioni che l'oggetto è in grado di calcolare. Se vogliamo, sono comportamenti di cui l'oggetto è capace.\n",
    "\n",
    "I metodi vengono chiamati con questa sintassi:\n",
    "``oggetto.metodo(parametri)``\n",
    "\n",
    "I parametri sono argomenti che passiamo al metodo. Se non tutto ti è già perfettamente chiaro, sappi che presto ci torneremo sopra, creando sia oggetti che funzioni.\n",
    "Ecco qualche esempio dei metodi nativi delle stringhe:"
   ]
  },
  {
   "cell_type": "code",
   "execution_count": null,
   "metadata": {
    "collapsed": false
   },
   "outputs": [],
   "source": [
    "s"
   ]
  },
  {
   "cell_type": "code",
   "execution_count": null,
   "metadata": {
    "collapsed": false
   },
   "outputs": [],
   "source": [
    "# Mettiamo tutto in maiuscolo\n",
    "s.upper()"
   ]
  },
  {
   "cell_type": "code",
   "execution_count": null,
   "metadata": {
    "collapsed": false
   },
   "outputs": [],
   "source": [
    "# Tutto in minuscolo\n",
    "s.lower()"
   ]
  },
  {
   "cell_type": "markdown",
   "metadata": {},
   "source": [
    "Notare che la stringa è rimasta immutata, i metodi servono per fornirne una copia modificata in un certo modo."
   ]
  },
  {
   "cell_type": "code",
   "execution_count": null,
   "metadata": {
    "collapsed": false
   },
   "outputs": [],
   "source": [
    "s"
   ]
  },
  {
   "cell_type": "code",
   "execution_count": null,
   "metadata": {
    "collapsed": false
   },
   "outputs": [],
   "source": [
    "# Dividiamo (\"splittiamo\") una stringa quando incontriamo uno spazio\n",
    "# È il comportamento di default, ossia possiamo dividerla quando incontriamo qualsiasi\n",
    "# carattere vogliamo\n",
    "s.split()"
   ]
  },
  {
   "cell_type": "code",
   "execution_count": null,
   "metadata": {
    "collapsed": false
   },
   "outputs": [],
   "source": [
    "# Splittiamo con un preciso carattere. Notare che il carattere di split viene eliminato\n",
    "s.split('W')"
   ]
  },
  {
   "cell_type": "markdown",
   "metadata": {},
   "source": [
    "Le stringhe hanno molti altri metodi, per i quali hai a disposizione un'intera altra lezione."
   ]
  },
  {
   "cell_type": "markdown",
   "metadata": {},
   "source": [
    "## Stampa formattata\n",
    "\n",
    "Quando eseguiamo dei comandi per stampare stringhe, possiamo usare il metodo ``.format()`` per includere degli oggetti formattati.\n",
    "\n",
    "Vediamo subito un esempio:"
   ]
  },
  {
   "cell_type": "code",
   "execution_count": null,
   "metadata": {
    "collapsed": false
   },
   "outputs": [],
   "source": [
    "\"Inserisci una stringa in un'altra con le parentesi graffe: {}\".format('Sono la stringa inserita')"
   ]
  },
  {
   "cell_type": "markdown",
   "metadata": {},
   "source": [
    "La stampa formattata ci servirà molto presto, per cui ci torneremo in maggiore dettaglio."
   ]
  },
  {
   "cell_type": "markdown",
   "metadata": {},
   "source": [
    "## Prossima lezione: Formattare l'output!"
   ]
  }
 ],
 "metadata": {
  "kernelspec": {
   "display_name": "Python 2",
   "language": "python",
   "name": "python2"
  },
  "language_info": {
   "codemirror_mode": {
    "name": "ipython",
    "version": 2
   },
   "file_extension": ".py",
   "mimetype": "text/x-python",
   "name": "python",
   "nbconvert_exporter": "python",
   "pygments_lexer": "ipython2",
   "version": "2.7.11"
  }
 },
 "nbformat": 4,
 "nbformat_minor": 0
}
