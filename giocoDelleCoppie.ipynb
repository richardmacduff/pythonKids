{
 "cells": [
  {
   "cell_type": "markdown",
   "metadata": {},
   "source": [
    "# Il gioco delle coppie\n",
    "\n",
    "Da bambini, in gruppo, si prendeva un foglio di carta e a turno ciascuno scriveva una parte di frase:\n",
    "\n",
    "* chi è lui\n",
    "* chi è lei\n",
    "* dove sono\n",
    "* cosa fanno\n",
    "* cosa dice lui\n",
    "* cosa dice lei\n",
    "* cosa dice la gente\n",
    "\n",
    "siccome le varie parti della frase non avevano un contesto comune, il risultato era spassoso:\n",
    "\n",
    "> il prof Vannini  \n",
    "e la moglie di Magilla Gorilla  \n",
    "in Chiccoteca  \n",
    "lavano i pavimenti\n",
    "lui dice \"la Brexit è una iattura\"  \n",
    "lei dice \"quanto fa sei per nove in base 13?\"  \n",
    "la gente dice \"Scavolini in serie A\"\n",
    "\n",
    "OK. da bambini ci si divertiva con poco."
   ]
  },
  {
   "cell_type": "markdown",
   "metadata": {},
   "source": [
    "## Progetto\n",
    "\n",
    "Vogliamo creare un programma che replichi quel gioco, generando frasi che abbiano la struttura appena descritta.\n",
    "\n",
    "### Domande iniziali\n",
    "\n",
    "quale struttura dati vi viene in mente per&hellip;\n",
    "\n",
    "1. &hellip;raccogliere elementi?\n",
    "2. assemblare elementi in un corpo unico?"
   ]
  },
  {
   "cell_type": "code",
   "execution_count": 8,
   "metadata": {
    "collapsed": false
   },
   "outputs": [
    {
     "name": "stdout",
     "output_type": "stream",
     "text": [
      "Mio cuggino e Emma Marrone, ognuno a casa propria, giocano a piede puzzolente. Lui dice: abbiamo finito il caffè, lei dice: mi passi il sale?. La gente dice: lei è più giovane di lui.\n"
     ]
    }
   ],
   "source": [
    "# file per il gioco delle coppie\n",
    "\n",
    "from random import randint\n",
    "\n",
    "# \"chi è lui, chi è lei, dove sono, cosa fanno...\"\n",
    "\n",
    "#definisco delle liste per i componenti della frase\n",
    "\n",
    "lui_l = [\"Mario\", \"Il prof Vannini\", \"Trump\", \"Mio cuggino\", \"Il sindaco\" ]\n",
    "lei_l = [\"Emma Marrone\", \"Ivanka Trump\", \"Madre Teresa\", \"la ministra\", \"tua sorella\"]\n",
    "dove_l = [\"in una grotta buia\", \"alla Coop\", \"ognuno a casa propria\", \"su Marte\", \"nel fango fino al collo\"]\n",
    "cosa_l = [\"dormono\", \"giocano a piede puzzolente\", \"si tingono i capelli\", \"fanno Pilates\", \"mangiano l'impepata di cozze\"]\n",
    "diceLui_l = [\"hai della maionese?\", \"stasera calcetto!\", \"dove sono i miei calzini?\", \"abbiamo finito il caffè\", \"faccio tardi\"]\n",
    "diceLei_l = [\"secondo te sono ingrassata?\", \"no, non mi sono offesa\", \"lo sai, il perché\", \"vengono i miei a cena\", \"mi passi il sale?\"]\n",
    "diceGente_l = [\"non si sono più le mezze stagioni\", \"va' che carini\", \"lui è più giovane di lei\", \"lei è più giovane di lui\", \"il centro sta morendo\"]\n",
    "collante_l = [\" e \", \", \", \", \", \". Lui dice: \", \", lei dice: \", \". La gente dice: \", \".\"]\n",
    "\n",
    "#una variabile per montare la frase dai vari pezzi\n",
    "frase = \"\"\n",
    "\n",
    "#elemento da prendere nella lista collante_l\n",
    "j = 0\n",
    "\n",
    "for i in [lui_l, lei_l, dove_l, cosa_l, diceLui_l, diceLei_l, diceGente_l]:\n",
    "    frase += i[randint(0,len(i)-1)]\n",
    "    frase += collante_l[j]\n",
    "    j += 1\n",
    "    \n",
    "print(frase)"
   ]
  }
 ],
 "metadata": {
  "kernelspec": {
   "display_name": "Python 3.5",
   "language": "python",
   "name": "python3.5"
  },
  "language_info": {
   "codemirror_mode": {
    "name": "ipython",
    "version": 3
   },
   "file_extension": ".py",
   "mimetype": "text/x-python",
   "name": "python",
   "nbconvert_exporter": "python",
   "pygments_lexer": "ipython3",
   "version": "3.5.2"
  }
 },
 "nbformat": 4,
 "nbformat_minor": 0
}
